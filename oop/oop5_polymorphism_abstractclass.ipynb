{
 "cells": [
  {
   "cell_type": "markdown",
   "id": "9c6f962f-5e1b-4bb3-9ee8-3354a27654ce",
   "metadata": {},
   "source": [
    "# abstarct class in polymorphism\n",
    "# never expected to create instance of abstarct calss"
   ]
  },
  {
   "cell_type": "code",
   "execution_count": 11,
   "id": "f4d5bd0c-e693-4bcc-9cef-e3e2bba80f8b",
   "metadata": {},
   "outputs": [],
   "source": [
    "# Animal is abstarct class\n",
    "class Animal():\n",
    "\n",
    "    def __init__(self, name):\n",
    "        self.name = name\n",
    "\n",
    "    def speak(self):\n",
    "        raise NotImplementedError(\"Never expected to create abstract class object\")"
   ]
  },
  {
   "cell_type": "code",
   "execution_count": 2,
   "id": "0d139950-9b6f-4cba-be67-89202276f979",
   "metadata": {},
   "outputs": [],
   "source": [
    "class Dog(Animal):\n",
    "\n",
    "    def speak(self):\n",
    "        return (self.name + \" says woof\")\n",
    "        "
   ]
  },
  {
   "cell_type": "code",
   "execution_count": 3,
   "id": "774ad8f4-9ee4-439b-be96-bc253c6694f3",
   "metadata": {},
   "outputs": [],
   "source": [
    "class Cat(Animal):\n",
    "\n",
    "    def speak(self):\n",
    "        return (self.name + \" says meow\")\n",
    "        "
   ]
  },
  {
   "cell_type": "code",
   "execution_count": 4,
   "id": "d994c34c-e183-48a2-8e39-424b9b364a3c",
   "metadata": {},
   "outputs": [],
   "source": [
    "fido = Dog('fido')"
   ]
  },
  {
   "cell_type": "code",
   "execution_count": 5,
   "id": "60787c39-9879-4f97-b84a-ef7987a46d8b",
   "metadata": {},
   "outputs": [],
   "source": [
    "isis = Cat('isis')"
   ]
  },
  {
   "cell_type": "code",
   "execution_count": 6,
   "id": "ccdb5dd3-800f-4b54-bb1e-c45f3ce0be0c",
   "metadata": {},
   "outputs": [
    {
     "data": {
      "text/plain": [
       "'fido'"
      ]
     },
     "execution_count": 6,
     "metadata": {},
     "output_type": "execute_result"
    }
   ],
   "source": [
    "fido.name"
   ]
  },
  {
   "cell_type": "code",
   "execution_count": 7,
   "id": "d63a1122-ebb9-455a-b149-fba55bd340b7",
   "metadata": {},
   "outputs": [
    {
     "data": {
      "text/plain": [
       "'isis'"
      ]
     },
     "execution_count": 7,
     "metadata": {},
     "output_type": "execute_result"
    }
   ],
   "source": [
    "isis.name"
   ]
  },
  {
   "cell_type": "code",
   "execution_count": 8,
   "id": "b6043fe4-5306-4ed8-9cd6-ff49a478232f",
   "metadata": {},
   "outputs": [
    {
     "data": {
      "text/plain": [
       "'fido says woof'"
      ]
     },
     "execution_count": 8,
     "metadata": {},
     "output_type": "execute_result"
    }
   ],
   "source": [
    "fido.speak()"
   ]
  },
  {
   "cell_type": "code",
   "execution_count": 9,
   "id": "bac11eca-169c-4b95-acf0-0aaddb2a4546",
   "metadata": {},
   "outputs": [
    {
     "data": {
      "text/plain": [
       "'isis says meow'"
      ]
     },
     "execution_count": 9,
     "metadata": {},
     "output_type": "execute_result"
    }
   ],
   "source": [
    "isis.speak()"
   ]
  },
  {
   "cell_type": "code",
   "execution_count": null,
   "id": "85bf246a-728a-4fa2-a9d1-073a2154bfa2",
   "metadata": {},
   "outputs": [],
   "source": []
  }
 ],
 "metadata": {
  "kernelspec": {
   "display_name": "Python 3 (ipykernel)",
   "language": "python",
   "name": "python3"
  },
  "language_info": {
   "codemirror_mode": {
    "name": "ipython",
    "version": 3
   },
   "file_extension": ".py",
   "mimetype": "text/x-python",
   "name": "python",
   "nbconvert_exporter": "python",
   "pygments_lexer": "ipython3",
   "version": "3.11.5"
  }
 },
 "nbformat": 4,
 "nbformat_minor": 5
}
