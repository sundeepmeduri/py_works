{
 "cells": [
  {
   "cell_type": "code",
   "execution_count": 11,
   "id": "f3dd673e-7180-4cd7-b049-29b4593dde08",
   "metadata": {},
   "outputs": [],
   "source": [
    "import math\n",
    "class Line:\n",
    "\n",
    "    def __init__(self, coor1, coor2):\n",
    "        self.coor1 = coor1\n",
    "        self.coor2 = coor2\n",
    "\n",
    "    def distance(self):\n",
    "        \n",
    "        # my code\n",
    "        x = self.coor2[0] - self.coor1[0]\n",
    "        x = x * x\n",
    "        y = self.coor2[1] - self.coor1[1]\n",
    "        y = y * y\n",
    "        d = x + y\n",
    "        return math.sqrt(d)\n",
    "\n",
    "    def slope(self):\n",
    "\n",
    "        # my code\n",
    "        y = self.coor2[1] - self.coor1[1]\n",
    "        x = self.coor2[0] - self.coor1[0]\n",
    "        return y/x\n",
    "        \n",
    "        "
   ]
  },
  {
   "cell_type": "code",
   "execution_count": 12,
   "id": "57d271f7-7d62-43e5-986a-68d1173bc2c5",
   "metadata": {},
   "outputs": [],
   "source": [
    "l = Line((3, 2),(8, 10))"
   ]
  },
  {
   "cell_type": "code",
   "execution_count": 13,
   "id": "fe39aa31-da38-4e1d-bcb4-a1e023ccd360",
   "metadata": {},
   "outputs": [
    {
     "data": {
      "text/plain": [
       "9.433981132056603"
      ]
     },
     "execution_count": 13,
     "metadata": {},
     "output_type": "execute_result"
    }
   ],
   "source": [
    "l.distance()"
   ]
  },
  {
   "cell_type": "code",
   "execution_count": 14,
   "id": "4a2627ba-01e6-4b42-a494-431025037bfc",
   "metadata": {},
   "outputs": [
    {
     "data": {
      "text/plain": [
       "1.6"
      ]
     },
     "execution_count": 14,
     "metadata": {},
     "output_type": "execute_result"
    }
   ],
   "source": [
    "l.slope()"
   ]
  },
  {
   "cell_type": "code",
   "execution_count": 19,
   "id": "22c6fe6f-264d-496b-b6c2-1db30e51058c",
   "metadata": {},
   "outputs": [],
   "source": [
    "class Cylinder:\n",
    "    pi = 3.14\n",
    "    \n",
    "    def __init__(self, height=1, radius=1):\n",
    "        self.height = height\n",
    "        self.radius = radius\n",
    "\n",
    "    def volume(self):  # pie * r*r * h\n",
    "        return self.pi * self.radius * self.radius * self.height\n",
    "\n",
    "    def surface_area(self):  # 2πrh+2πr2\n",
    "        return (2 * self.pi * self.radius * self.height) + (2 * self.pi * self.radius * self.radius)"
   ]
  },
  {
   "cell_type": "code",
   "execution_count": 20,
   "id": "e293020e-d115-450e-a688-fffbebb59eac",
   "metadata": {},
   "outputs": [],
   "source": [
    "c = Cylinder(2,3)"
   ]
  },
  {
   "cell_type": "code",
   "execution_count": 21,
   "id": "25529f4d-4f26-4287-8720-2516409bc8a6",
   "metadata": {},
   "outputs": [
    {
     "data": {
      "text/plain": [
       "56.519999999999996"
      ]
     },
     "execution_count": 21,
     "metadata": {},
     "output_type": "execute_result"
    }
   ],
   "source": [
    "c.volume()"
   ]
  },
  {
   "cell_type": "code",
   "execution_count": 22,
   "id": "1860715d-b0ae-42be-b482-8a966528ad7c",
   "metadata": {},
   "outputs": [
    {
     "data": {
      "text/plain": [
       "94.19999999999999"
      ]
     },
     "execution_count": 22,
     "metadata": {},
     "output_type": "execute_result"
    }
   ],
   "source": [
    "c.surface_area()"
   ]
  },
  {
   "cell_type": "code",
   "execution_count": null,
   "id": "13066de1-4c7b-49bc-a1a5-f6bd2ae6d8e6",
   "metadata": {},
   "outputs": [],
   "source": []
  }
 ],
 "metadata": {
  "kernelspec": {
   "display_name": "Python 3 (ipykernel)",
   "language": "python",
   "name": "python3"
  },
  "language_info": {
   "codemirror_mode": {
    "name": "ipython",
    "version": 3
   },
   "file_extension": ".py",
   "mimetype": "text/x-python",
   "name": "python",
   "nbconvert_exporter": "python",
   "pygments_lexer": "ipython3",
   "version": "3.11.5"
  }
 },
 "nbformat": 4,
 "nbformat_minor": 5
}
