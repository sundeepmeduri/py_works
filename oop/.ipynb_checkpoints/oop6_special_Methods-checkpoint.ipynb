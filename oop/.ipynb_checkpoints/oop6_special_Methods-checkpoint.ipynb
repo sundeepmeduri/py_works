{
 "cells": [
  {
   "cell_type": "markdown",
   "id": "7a5c5e05-bfbb-437c-973c-c01264ec2f0e",
   "metadata": {},
   "source": [
    "# Special Methods/ Dunder Methods"
   ]
  },
  {
   "cell_type": "code",
   "execution_count": 12,
   "id": "54f3aaa9-4213-4749-95f0-6e20034c82d0",
   "metadata": {},
   "outputs": [],
   "source": [
    "# below all methods are special methods\n",
    "\n",
    "class Book():\n",
    "\n",
    "    def __init__(self, title, author, pages):\n",
    "\n",
    "        self.title = title\n",
    "        self.author = author\n",
    "        self.pages = pages\n",
    "\n",
    "    def __str__(self):\n",
    "        return self.title + ' by ' + self.author\n",
    "\n",
    "    def __len__(self):\n",
    "        return self.pages\n",
    "\n",
    "    def __del__(self):\n",
    "        print('A book object is deleted')\n",
    "    "
   ]
  },
  {
   "cell_type": "code",
   "execution_count": 13,
   "id": "522e7a4e-cda7-43c9-bbaa-ae7f73e2ec52",
   "metadata": {},
   "outputs": [],
   "source": [
    "b = Book('python rocks', 'myself',99)"
   ]
  },
  {
   "cell_type": "code",
   "execution_count": 14,
   "id": "3c1fef4d-7b50-46bf-8aa1-7d05d3fdd9d0",
   "metadata": {},
   "outputs": [
    {
     "data": {
      "text/plain": [
       "99"
      ]
     },
     "execution_count": 14,
     "metadata": {},
     "output_type": "execute_result"
    }
   ],
   "source": [
    "len(b)"
   ]
  },
  {
   "cell_type": "code",
   "execution_count": 15,
   "id": "c450b823-565d-4316-8289-eb4c72f209db",
   "metadata": {},
   "outputs": [
    {
     "name": "stdout",
     "output_type": "stream",
     "text": [
      "python rocks by myself\n"
     ]
    }
   ],
   "source": [
    "print(b)"
   ]
  },
  {
   "cell_type": "code",
   "execution_count": 16,
   "id": "8c25a223-39e8-42be-9907-e8351fe88a64",
   "metadata": {},
   "outputs": [
    {
     "data": {
      "text/plain": [
       "'python rocks by myself'"
      ]
     },
     "execution_count": 16,
     "metadata": {},
     "output_type": "execute_result"
    }
   ],
   "source": [
    "str(b)"
   ]
  },
  {
   "cell_type": "code",
   "execution_count": 17,
   "id": "afbf8266-7d3b-47b6-8411-f988a778d973",
   "metadata": {},
   "outputs": [
    {
     "name": "stdout",
     "output_type": "stream",
     "text": [
      "A book object is deleted\n"
     ]
    }
   ],
   "source": [
    "del b"
   ]
  },
  {
   "cell_type": "code",
   "execution_count": null,
   "id": "5be14748-b71e-45d3-86e1-1d8aa8402b3b",
   "metadata": {},
   "outputs": [],
   "source": []
  }
 ],
 "metadata": {
  "kernelspec": {
   "display_name": "Python 3 (ipykernel)",
   "language": "python",
   "name": "python3"
  },
  "language_info": {
   "codemirror_mode": {
    "name": "ipython",
    "version": 3
   },
   "file_extension": ".py",
   "mimetype": "text/x-python",
   "name": "python",
   "nbconvert_exporter": "python",
   "pygments_lexer": "ipython3",
   "version": "3.11.5"
  }
 },
 "nbformat": 4,
 "nbformat_minor": 5
}
