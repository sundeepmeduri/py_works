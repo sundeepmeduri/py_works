{
 "cells": [
  {
   "cell_type": "code",
   "execution_count": 1,
   "id": "a6c775a5-0b8d-4dd3-8cbf-e0946eefb314",
   "metadata": {},
   "outputs": [],
   "source": [
    "class MathClass:\n",
    "    operations = 0\n",
    "\n",
    "    def __init__(self,a=5,b=5):\n",
    "        self.a = a\n",
    "        self.b = b\n",
    "\n",
    "    def add(self):\n",
    "        return self.a + self.b\n",
    "    \n",
    "    def sub(self):\n",
    "        return self.a - self.b\n",
    "\n",
    "    def mul(self):\n",
    "        return self.a * self.b\n",
    "        "
   ]
  },
  {
   "cell_type": "code",
   "execution_count": 2,
   "id": "4e9ea85a-d72d-4b9e-942a-2c3bcc135d1a",
   "metadata": {},
   "outputs": [],
   "source": [
    "my_class = MathClass()"
   ]
  },
  {
   "cell_type": "code",
   "execution_count": 3,
   "id": "6415d7ce-b2f7-4669-896e-160335c0cba1",
   "metadata": {},
   "outputs": [
    {
     "data": {
      "text/plain": [
       "5"
      ]
     },
     "execution_count": 3,
     "metadata": {},
     "output_type": "execute_result"
    }
   ],
   "source": [
    "my_class.a"
   ]
  },
  {
   "cell_type": "code",
   "execution_count": 4,
   "id": "ae23ad75-11e3-4500-90e2-d5b416e64678",
   "metadata": {},
   "outputs": [
    {
     "data": {
      "text/plain": [
       "5"
      ]
     },
     "execution_count": 4,
     "metadata": {},
     "output_type": "execute_result"
    }
   ],
   "source": [
    "my_class.b"
   ]
  },
  {
   "cell_type": "code",
   "execution_count": 5,
   "id": "cdd0f739-667e-4996-92c8-ec4df20904db",
   "metadata": {},
   "outputs": [
    {
     "data": {
      "text/plain": [
       "10"
      ]
     },
     "execution_count": 5,
     "metadata": {},
     "output_type": "execute_result"
    }
   ],
   "source": [
    "my_class.add()"
   ]
  },
  {
   "cell_type": "code",
   "execution_count": 6,
   "id": "94068c2f-7f54-43f2-bec5-17300a30625d",
   "metadata": {},
   "outputs": [
    {
     "data": {
      "text/plain": [
       "0"
      ]
     },
     "execution_count": 6,
     "metadata": {},
     "output_type": "execute_result"
    }
   ],
   "source": [
    "my_class.sub()"
   ]
  },
  {
   "cell_type": "code",
   "execution_count": 7,
   "id": "a7e962ba-0c64-47c5-a018-4c796be4cc21",
   "metadata": {},
   "outputs": [
    {
     "data": {
      "text/plain": [
       "25"
      ]
     },
     "execution_count": 7,
     "metadata": {},
     "output_type": "execute_result"
    }
   ],
   "source": [
    "my_class.mul()"
   ]
  },
  {
   "cell_type": "code",
   "execution_count": 8,
   "id": "8f19d8d6-67dc-486f-8b1c-6a455075f529",
   "metadata": {},
   "outputs": [],
   "source": [
    "my_class1 = MathClass(15,10)"
   ]
  },
  {
   "cell_type": "code",
   "execution_count": 9,
   "id": "9281f805-21a8-4d9d-bf0c-d6864b27cf7f",
   "metadata": {},
   "outputs": [
    {
     "data": {
      "text/plain": [
       "15"
      ]
     },
     "execution_count": 9,
     "metadata": {},
     "output_type": "execute_result"
    }
   ],
   "source": [
    "my_class1.a"
   ]
  },
  {
   "cell_type": "code",
   "execution_count": 10,
   "id": "290ef981-a211-4caf-b79c-d81981fbc1fc",
   "metadata": {},
   "outputs": [
    {
     "data": {
      "text/plain": [
       "5"
      ]
     },
     "execution_count": 10,
     "metadata": {},
     "output_type": "execute_result"
    }
   ],
   "source": [
    "my_class.b"
   ]
  },
  {
   "cell_type": "code",
   "execution_count": 12,
   "id": "33a59eaa-00b7-4d83-a7dd-ba8300a4d7fb",
   "metadata": {},
   "outputs": [
    {
     "data": {
      "text/plain": [
       "25"
      ]
     },
     "execution_count": 12,
     "metadata": {},
     "output_type": "execute_result"
    }
   ],
   "source": [
    "my_class1.add()"
   ]
  },
  {
   "cell_type": "code",
   "execution_count": 13,
   "id": "f564e7b6-7f04-4eab-ad2b-55e0ed41f50a",
   "metadata": {},
   "outputs": [
    {
     "data": {
      "text/plain": [
       "5"
      ]
     },
     "execution_count": 13,
     "metadata": {},
     "output_type": "execute_result"
    }
   ],
   "source": [
    "my_class1.sub()"
   ]
  },
  {
   "cell_type": "code",
   "execution_count": 14,
   "id": "ebb19aff-ac55-4dd0-8081-6d8caa8d6bf2",
   "metadata": {},
   "outputs": [
    {
     "data": {
      "text/plain": [
       "150"
      ]
     },
     "execution_count": 14,
     "metadata": {},
     "output_type": "execute_result"
    }
   ],
   "source": [
    "my_class1.mul()"
   ]
  },
  {
   "cell_type": "code",
   "execution_count": null,
   "id": "7605450d-aef3-4f87-a9a0-1f80c799741d",
   "metadata": {},
   "outputs": [],
   "source": []
  }
 ],
 "metadata": {
  "kernelspec": {
   "display_name": "Python 3 (ipykernel)",
   "language": "python",
   "name": "python3"
  },
  "language_info": {
   "codemirror_mode": {
    "name": "ipython",
    "version": 3
   },
   "file_extension": ".py",
   "mimetype": "text/x-python",
   "name": "python",
   "nbconvert_exporter": "python",
   "pygments_lexer": "ipython3",
   "version": "3.11.5"
  }
 },
 "nbformat": 4,
 "nbformat_minor": 5
}
