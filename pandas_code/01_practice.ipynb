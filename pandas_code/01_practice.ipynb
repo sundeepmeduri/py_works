{
 "cells": [
  {
   "cell_type": "code",
   "execution_count": 4,
   "id": "983ec76d-4a06-4edc-abe3-d573cfbd1f15",
   "metadata": {
    "tags": []
   },
   "outputs": [],
   "source": [
    "import numpy as np\n",
    "import pandas as pd"
   ]
  },
  {
   "cell_type": "code",
   "execution_count": 2,
   "id": "334dea59-136c-4a07-8a94-0574d1b2d826",
   "metadata": {
    "tags": []
   },
   "outputs": [],
   "source": [
    "mylist = [1,2,3,4,5]"
   ]
  },
  {
   "cell_type": "code",
   "execution_count": 3,
   "id": "edcd41c5-9e4b-46b4-8469-2123e09bfaa9",
   "metadata": {
    "tags": []
   },
   "outputs": [],
   "source": [
    "myindex = ['a','b','c','d','e']"
   ]
  },
  {
   "cell_type": "code",
   "execution_count": 5,
   "id": "2ecdb1d0-d674-4072-8655-038b3d492bf2",
   "metadata": {
    "tags": []
   },
   "outputs": [],
   "source": [
    "myser = pd.Series(mylist)"
   ]
  },
  {
   "cell_type": "code",
   "execution_count": 6,
   "id": "451f595e-84f3-444a-a0b6-5b1efcd88e6a",
   "metadata": {
    "tags": []
   },
   "outputs": [
    {
     "data": {
      "text/plain": [
       "0    1\n",
       "1    2\n",
       "2    3\n",
       "3    4\n",
       "4    5\n",
       "dtype: int64"
      ]
     },
     "execution_count": 6,
     "metadata": {},
     "output_type": "execute_result"
    }
   ],
   "source": [
    "myser"
   ]
  },
  {
   "cell_type": "code",
   "execution_count": 7,
   "id": "09d1aa31-7377-43f5-874b-6833944eabe8",
   "metadata": {
    "tags": []
   },
   "outputs": [
    {
     "data": {
      "text/plain": [
       "2"
      ]
     },
     "execution_count": 7,
     "metadata": {},
     "output_type": "execute_result"
    }
   ],
   "source": [
    "myser.iloc[1]"
   ]
  },
  {
   "cell_type": "code",
   "execution_count": 10,
   "id": "36103bae-e1e6-488c-9ee5-9fdc87224259",
   "metadata": {
    "tags": []
   },
   "outputs": [],
   "source": [
    "myser=pd.Series(mylist, myindex)"
   ]
  },
  {
   "cell_type": "code",
   "execution_count": 11,
   "id": "16e39681-f0d5-4f82-8f26-41985fc780ba",
   "metadata": {
    "tags": []
   },
   "outputs": [
    {
     "data": {
      "text/plain": [
       "a    1\n",
       "b    2\n",
       "c    3\n",
       "d    4\n",
       "e    5\n",
       "dtype: int64"
      ]
     },
     "execution_count": 11,
     "metadata": {},
     "output_type": "execute_result"
    }
   ],
   "source": [
    "myser"
   ]
  },
  {
   "cell_type": "code",
   "execution_count": 12,
   "id": "76e731b2-1d0f-406c-bb81-30cc03e33343",
   "metadata": {
    "tags": []
   },
   "outputs": [
    {
     "data": {
      "text/plain": [
       "2"
      ]
     },
     "execution_count": 12,
     "metadata": {},
     "output_type": "execute_result"
    }
   ],
   "source": [
    "myser['b']"
   ]
  },
  {
   "cell_type": "code",
   "execution_count": 13,
   "id": "1b7c12b1-ba6e-4025-abbd-83ab9555fb0c",
   "metadata": {
    "tags": []
   },
   "outputs": [],
   "source": [
    "# another way to create series is to pass a dict to create series"
   ]
  },
  {
   "cell_type": "code",
   "execution_count": 14,
   "id": "240190e6-bda1-401c-8417-21afeb165ba0",
   "metadata": {
    "tags": []
   },
   "outputs": [],
   "source": [
    "ages = {'sam': 21, 'sara':16, 'ginger':22}"
   ]
  },
  {
   "cell_type": "code",
   "execution_count": 15,
   "id": "be2de410-5429-4185-822b-e7d0fbc47399",
   "metadata": {
    "tags": []
   },
   "outputs": [],
   "source": [
    "myages = pd.Series(ages)"
   ]
  },
  {
   "cell_type": "code",
   "execution_count": 17,
   "id": "79095f2b-17eb-4e30-99e8-8ab4b39159e8",
   "metadata": {
    "tags": []
   },
   "outputs": [
    {
     "data": {
      "text/plain": [
       "sam       21\n",
       "sara      16\n",
       "ginger    22\n",
       "dtype: int64"
      ]
     },
     "execution_count": 17,
     "metadata": {},
     "output_type": "execute_result"
    }
   ],
   "source": [
    "myages # the dict keys will be taken as index and values as data"
   ]
  },
  {
   "cell_type": "code",
   "execution_count": 18,
   "id": "5898d1e8-8e60-42c3-b611-ea8f4dd94843",
   "metadata": {
    "tags": []
   },
   "outputs": [
    {
     "data": {
      "text/plain": [
       "16"
      ]
     },
     "execution_count": 18,
     "metadata": {},
     "output_type": "execute_result"
    }
   ],
   "source": [
    "myages.iloc[1]"
   ]
  },
  {
   "cell_type": "code",
   "execution_count": 19,
   "id": "68c2108b-6920-4aa2-8a7d-c1cdc94c1876",
   "metadata": {
    "tags": []
   },
   "outputs": [
    {
     "data": {
      "text/plain": [
       "22"
      ]
     },
     "execution_count": 19,
     "metadata": {},
     "output_type": "execute_result"
    }
   ],
   "source": [
    "myages['ginger']"
   ]
  },
  {
   "cell_type": "markdown",
   "id": "0f79e022-9bcb-436f-8b82-ce2ae8fcf245",
   "metadata": {},
   "source": [
    "# numpy oerations"
   ]
  },
  {
   "cell_type": "code",
   "execution_count": 20,
   "id": "18a7685f-cd7e-4d53-bb83-2c441bd87d44",
   "metadata": {
    "tags": []
   },
   "outputs": [],
   "source": [
    "q1 = {'usa':200, 'india':150, 'china':140, 'japan':190}"
   ]
  },
  {
   "cell_type": "code",
   "execution_count": 21,
   "id": "62be1200-7065-42ff-b70f-3f0ecb0860d7",
   "metadata": {
    "tags": []
   },
   "outputs": [],
   "source": [
    "q2 = {'usa':210, 'india':160, 'china':130, 'brazil':120}"
   ]
  },
  {
   "cell_type": "code",
   "execution_count": 22,
   "id": "6d3e9834-83e9-4273-88eb-eed289fb804c",
   "metadata": {
    "tags": []
   },
   "outputs": [],
   "source": [
    "ser_q1 = pd.Series(q1)"
   ]
  },
  {
   "cell_type": "code",
   "execution_count": 23,
   "id": "18ffff03-277a-429c-a1e3-32a62031d291",
   "metadata": {
    "tags": []
   },
   "outputs": [],
   "source": [
    "ser_q2 = pd.Series(q2)"
   ]
  },
  {
   "cell_type": "code",
   "execution_count": 24,
   "id": "e95afce3-668a-4121-9499-9ed221b48391",
   "metadata": {
    "tags": []
   },
   "outputs": [
    {
     "data": {
      "text/plain": [
       "usa      200\n",
       "india    150\n",
       "china    140\n",
       "japan    190\n",
       "dtype: int64"
      ]
     },
     "execution_count": 24,
     "metadata": {},
     "output_type": "execute_result"
    }
   ],
   "source": [
    "ser_q1"
   ]
  },
  {
   "cell_type": "code",
   "execution_count": 25,
   "id": "d01067dc-8820-4ed2-9b16-9d469037faed",
   "metadata": {
    "tags": []
   },
   "outputs": [
    {
     "data": {
      "text/plain": [
       "usa       210\n",
       "india     160\n",
       "china     130\n",
       "brazil    120\n",
       "dtype: int64"
      ]
     },
     "execution_count": 25,
     "metadata": {},
     "output_type": "execute_result"
    }
   ],
   "source": [
    "ser_q2"
   ]
  },
  {
   "cell_type": "code",
   "execution_count": 26,
   "id": "b807ec01-f6cd-4082-924a-78f3a194da2c",
   "metadata": {
    "tags": []
   },
   "outputs": [
    {
     "data": {
      "text/plain": [
       "usa      400\n",
       "india    300\n",
       "china    280\n",
       "japan    380\n",
       "dtype: int64"
      ]
     },
     "execution_count": 26,
     "metadata": {},
     "output_type": "execute_result"
    }
   ],
   "source": [
    "ser_q1 * 2"
   ]
  },
  {
   "cell_type": "code",
   "execution_count": 27,
   "id": "33f859c7-b0a2-452b-a8d4-1ecb1481a9b0",
   "metadata": {
    "tags": []
   },
   "outputs": [
    {
     "data": {
      "text/plain": [
       "usa       2.1\n",
       "india     1.6\n",
       "china     1.3\n",
       "brazil    1.2\n",
       "dtype: float64"
      ]
     },
     "execution_count": 27,
     "metadata": {},
     "output_type": "execute_result"
    }
   ],
   "source": [
    "ser_q2 /100"
   ]
  },
  {
   "cell_type": "code",
   "execution_count": 29,
   "id": "414d3e35-d001-4492-b71b-044537c7afc9",
   "metadata": {
    "tags": []
   },
   "outputs": [
    {
     "data": {
      "text/plain": [
       "410"
      ]
     },
     "execution_count": 29,
     "metadata": {},
     "output_type": "execute_result"
    }
   ],
   "source": [
    "ser_q1.iloc[0] + ser_q2.iloc[0]"
   ]
  },
  {
   "cell_type": "code",
   "execution_count": 35,
   "id": "6ff94c96-0226-4d47-bf78-3d0fc3613f32",
   "metadata": {
    "tags": []
   },
   "outputs": [
    {
     "data": {
      "text/plain": [
       "310"
      ]
     },
     "execution_count": 35,
     "metadata": {},
     "output_type": "execute_result"
    }
   ],
   "source": [
    "ser_q1['india'] + ser_q2['india']"
   ]
  },
  {
   "cell_type": "code",
   "execution_count": 36,
   "id": "4a1973cc-0571-4590-beb6-f0930924ad1c",
   "metadata": {
    "tags": []
   },
   "outputs": [
    {
     "data": {
      "text/plain": [
       "brazil      NaN\n",
       "china     270.0\n",
       "india     310.0\n",
       "japan       NaN\n",
       "usa       410.0\n",
       "dtype: float64"
      ]
     },
     "execution_count": 36,
     "metadata": {},
     "output_type": "execute_result"
    }
   ],
   "source": [
    "ser_q1 + ser_q2"
   ]
  },
  {
   "cell_type": "code",
   "execution_count": 37,
   "id": "ed4a0095-c538-48ac-bb0c-21bb771b4b42",
   "metadata": {
    "tags": []
   },
   "outputs": [
    {
     "data": {
      "text/plain": [
       "brazil    120.0\n",
       "china     270.0\n",
       "india     310.0\n",
       "japan     190.0\n",
       "usa       410.0\n",
       "dtype: float64"
      ]
     },
     "execution_count": 37,
     "metadata": {},
     "output_type": "execute_result"
    }
   ],
   "source": [
    "ser_q1.add(ser_q2, fill_value=0) # missing values will be provided with zero"
   ]
  },
  {
   "cell_type": "markdown",
   "id": "24941b7a-7c84-4892-b369-5cf43641bcb2",
   "metadata": {},
   "source": [
    "# basic attr"
   ]
  },
  {
   "cell_type": "code",
   "execution_count": 38,
   "id": "1e993107-f24d-4b6e-83d7-9ea4418b74b0",
   "metadata": {
    "tags": []
   },
   "outputs": [
    {
     "data": {
      "text/plain": [
       "(4,)"
      ]
     },
     "execution_count": 38,
     "metadata": {},
     "output_type": "execute_result"
    }
   ],
   "source": [
    "ser_q1.shape"
   ]
  },
  {
   "cell_type": "code",
   "execution_count": 39,
   "id": "18ad5be7-6161-43bf-9885-38899792cda8",
   "metadata": {
    "tags": []
   },
   "outputs": [
    {
     "data": {
      "text/plain": [
       "dtype('int64')"
      ]
     },
     "execution_count": 39,
     "metadata": {},
     "output_type": "execute_result"
    }
   ],
   "source": [
    "ser_q1.dtypes"
   ]
  },
  {
   "cell_type": "code",
   "execution_count": 40,
   "id": "764b05be-413c-4554-ae38-700a5499ea87",
   "metadata": {
    "tags": []
   },
   "outputs": [
    {
     "data": {
      "text/plain": [
       "Index(['usa', 'india', 'china', 'japan'], dtype='object')"
      ]
     },
     "execution_count": 40,
     "metadata": {},
     "output_type": "execute_result"
    }
   ],
   "source": [
    "ser_q1.index"
   ]
  },
  {
   "cell_type": "code",
   "execution_count": 45,
   "id": "a75b9417-12ee-4ed6-a7cf-872a0564887c",
   "metadata": {
    "tags": []
   },
   "outputs": [
    {
     "data": {
      "text/plain": [
       "200"
      ]
     },
     "execution_count": 45,
     "metadata": {},
     "output_type": "execute_result"
    }
   ],
   "source": [
    "ser_q1.max()"
   ]
  },
  {
   "cell_type": "code",
   "execution_count": 46,
   "id": "c63d29bf-f777-4a06-8332-f7ead1d09aac",
   "metadata": {
    "tags": []
   },
   "outputs": [
    {
     "data": {
      "text/plain": [
       "<bound method Series.keys of usa       210\n",
       "india     160\n",
       "china     130\n",
       "brazil    120\n",
       "dtype: int64>"
      ]
     },
     "execution_count": 46,
     "metadata": {},
     "output_type": "execute_result"
    }
   ],
   "source": [
    "ser_q2.keys"
   ]
  },
  {
   "cell_type": "code",
   "execution_count": 47,
   "id": "8f997c33-625e-40fb-a03e-0f35943716bf",
   "metadata": {
    "tags": []
   },
   "outputs": [
    {
     "data": {
      "text/plain": [
       "array([210, 160, 130, 120], dtype=int64)"
      ]
     },
     "execution_count": 47,
     "metadata": {},
     "output_type": "execute_result"
    }
   ],
   "source": [
    "ser_q2.values"
   ]
  },
  {
   "cell_type": "code",
   "execution_count": null,
   "id": "84ad5ac5-dd01-4697-b494-33a3087670dd",
   "metadata": {},
   "outputs": [],
   "source": []
  }
 ],
 "metadata": {
  "kernelspec": {
   "display_name": "Python 3 (ipykernel)",
   "language": "python",
   "name": "python3"
  },
  "language_info": {
   "codemirror_mode": {
    "name": "ipython",
    "version": 3
   },
   "file_extension": ".py",
   "mimetype": "text/x-python",
   "name": "python",
   "nbconvert_exporter": "python",
   "pygments_lexer": "ipython3",
   "version": "3.11.5"
  }
 },
 "nbformat": 4,
 "nbformat_minor": 5
}
