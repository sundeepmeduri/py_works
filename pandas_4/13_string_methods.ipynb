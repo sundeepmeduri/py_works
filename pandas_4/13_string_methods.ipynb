{
 "cells": [
  {
   "cell_type": "markdown",
   "id": "47083ec0-5355-480c-988b-097b7d55747c",
   "metadata": {},
   "source": [
    "# some python string methods"
   ]
  },
  {
   "cell_type": "markdown",
   "id": "fdd6dbad-66e2-4534-9fab-1c31069a23a8",
   "metadata": {
    "tags": []
   },
   "source": [
    "s = \"sundeepm@gmail.com\""
   ]
  },
  {
   "cell_type": "code",
   "execution_count": 2,
   "id": "b9c95162-abcf-4187-b9af-e67834f0ef16",
   "metadata": {
    "tags": []
   },
   "outputs": [
    {
     "data": {
      "text/plain": [
       "str"
      ]
     },
     "execution_count": 2,
     "metadata": {},
     "output_type": "execute_result"
    }
   ],
   "source": [
    "type(s)"
   ]
  },
  {
   "cell_type": "code",
   "execution_count": 3,
   "id": "52994b3b-49a1-48f0-9408-a0d562bdbf2c",
   "metadata": {
    "tags": []
   },
   "outputs": [
    {
     "data": {
      "text/plain": [
       "'Sundeepm@gmail.com'"
      ]
     },
     "execution_count": 3,
     "metadata": {},
     "output_type": "execute_result"
    }
   ],
   "source": [
    "s.capitalize()"
   ]
  },
  {
   "cell_type": "code",
   "execution_count": 4,
   "id": "911bcfcd-02b6-4be3-b940-3ed1bac45999",
   "metadata": {
    "tags": []
   },
   "outputs": [
    {
     "data": {
      "text/plain": [
       "'SUNDEEPM@GMAIL.COM'"
      ]
     },
     "execution_count": 4,
     "metadata": {},
     "output_type": "execute_result"
    }
   ],
   "source": [
    "s.upper()"
   ]
  },
  {
   "cell_type": "code",
   "execution_count": 5,
   "id": "3530d122-dbd8-4b20-9ad5-011c3558285b",
   "metadata": {
    "tags": []
   },
   "outputs": [
    {
     "data": {
      "text/plain": [
       "'sundeepm@gmail.com'"
      ]
     },
     "execution_count": 5,
     "metadata": {},
     "output_type": "execute_result"
    }
   ],
   "source": [
    "s.lower()"
   ]
  },
  {
   "cell_type": "code",
   "execution_count": 6,
   "id": "1de15300-76ff-43af-a0bc-718b195514f6",
   "metadata": {
    "tags": []
   },
   "outputs": [
    {
     "data": {
      "text/plain": [
       "['sundeepm', 'gmail.com']"
      ]
     },
     "execution_count": 6,
     "metadata": {},
     "output_type": "execute_result"
    }
   ],
   "source": [
    "s.split('@')"
   ]
  },
  {
   "cell_type": "code",
   "execution_count": 9,
   "id": "2a534bfd-f368-4bd5-8942-be5907c04cb0",
   "metadata": {
    "tags": []
   },
   "outputs": [
    {
     "data": {
      "text/plain": [
       "7"
      ]
     },
     "execution_count": 9,
     "metadata": {},
     "output_type": "execute_result"
    }
   ],
   "source": [
    "s.find('m')"
   ]
  },
  {
   "cell_type": "markdown",
   "id": "95ead11d-436b-4117-90ca-f7888708f948",
   "metadata": {
    "tags": []
   },
   "source": [
    "# same functions available in series of pandas"
   ]
  },
  {
   "cell_type": "code",
   "execution_count": 13,
   "id": "5d790f29-302d-40a8-8741-d97135dbca3d",
   "metadata": {
    "tags": []
   },
   "outputs": [],
   "source": [
    "import pandas as pd\n",
    "list = ['john', 'david', 'ben', 'annette']"
   ]
  },
  {
   "cell_type": "code",
   "execution_count": 14,
   "id": "7b4fc9b4-11b7-4355-bced-5910e204964d",
   "metadata": {
    "tags": []
   },
   "outputs": [],
   "source": [
    "s = pd.Series(list)"
   ]
  },
  {
   "cell_type": "code",
   "execution_count": 15,
   "id": "99c7a645-2191-4979-a97f-1e9d70b03e60",
   "metadata": {
    "tags": []
   },
   "outputs": [
    {
     "data": {
      "text/plain": [
       "0       john\n",
       "1      david\n",
       "2        ben\n",
       "3    annette\n",
       "dtype: object"
      ]
     },
     "execution_count": 15,
     "metadata": {},
     "output_type": "execute_result"
    }
   ],
   "source": [
    "s"
   ]
  },
  {
   "cell_type": "code",
   "execution_count": 19,
   "id": "adad8736-2332-4625-82df-db46d295406a",
   "metadata": {
    "tags": []
   },
   "outputs": [
    {
     "data": {
      "text/plain": [
       "0       John\n",
       "1      David\n",
       "2        Ben\n",
       "3    Annette\n",
       "dtype: object"
      ]
     },
     "execution_count": 19,
     "metadata": {},
     "output_type": "execute_result"
    }
   ],
   "source": [
    "s.str.capitalize()"
   ]
  },
  {
   "cell_type": "code",
   "execution_count": 20,
   "id": "0e8ebd64-dc18-4c62-823d-b190bf0bc693",
   "metadata": {
    "tags": []
   },
   "outputs": [
    {
     "data": {
      "text/plain": [
       "0       JOHN\n",
       "1      DAVID\n",
       "2        BEN\n",
       "3    ANNETTE\n",
       "dtype: object"
      ]
     },
     "execution_count": 20,
     "metadata": {},
     "output_type": "execute_result"
    }
   ],
   "source": [
    "s.str.upper()"
   ]
  },
  {
   "cell_type": "code",
   "execution_count": 21,
   "id": "b45c4e36-5460-474e-a344-852d84fe5506",
   "metadata": {
    "tags": []
   },
   "outputs": [
    {
     "data": {
      "text/plain": [
       "0       john\n",
       "1      david\n",
       "2        ben\n",
       "3    annette\n",
       "dtype: object"
      ]
     },
     "execution_count": 21,
     "metadata": {},
     "output_type": "execute_result"
    }
   ],
   "source": [
    "s.str.lower()"
   ]
  },
  {
   "cell_type": "code",
   "execution_count": 23,
   "id": "dc41155d-bbb1-4fad-9c88-63aeeb6f4ca6",
   "metadata": {
    "tags": []
   },
   "outputs": [
    {
     "data": {
      "text/plain": [
       "0         [john]\n",
       "1        [david]\n",
       "2         [b, n]\n",
       "3    [ann, tt, ]\n",
       "dtype: object"
      ]
     },
     "execution_count": 23,
     "metadata": {},
     "output_type": "execute_result"
    }
   ],
   "source": [
    "s.str.split('e')"
   ]
  },
  {
   "cell_type": "code",
   "execution_count": null,
   "id": "6c5f99fb-131a-4242-bcf5-fe3fec4d65d2",
   "metadata": {},
   "outputs": [],
   "source": []
  }
 ],
 "metadata": {
  "kernelspec": {
   "display_name": "Python 3 (ipykernel)",
   "language": "python",
   "name": "python3"
  },
  "language_info": {
   "codemirror_mode": {
    "name": "ipython",
    "version": 3
   },
   "file_extension": ".py",
   "mimetype": "text/x-python",
   "name": "python",
   "nbconvert_exporter": "python",
   "pygments_lexer": "ipython3",
   "version": "3.11.5"
  }
 },
 "nbformat": 4,
 "nbformat_minor": 5
}
