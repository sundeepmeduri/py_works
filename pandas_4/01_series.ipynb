{
 "cells": [
  {
   "cell_type": "code",
   "execution_count": 1,
   "id": "d36798db-1b7b-4876-87ac-2c9ee3c96a85",
   "metadata": {},
   "outputs": [],
   "source": [
    "import numpy as np\n",
    "import pandas as pd"
   ]
  },
  {
   "cell_type": "code",
   "execution_count": 2,
   "id": "6561da79-8588-4cf3-996b-3d72b9d0f823",
   "metadata": {},
   "outputs": [],
   "source": [
    "# help(pd.Series)"
   ]
  },
  {
   "cell_type": "code",
   "execution_count": 3,
   "id": "48f92595-989d-4efc-a186-2af23480e1a4",
   "metadata": {},
   "outputs": [],
   "source": [
    "myindex = ['usa', 'canada', 'mexico']"
   ]
  },
  {
   "cell_type": "code",
   "execution_count": 4,
   "id": "2ea41aa0-cee0-4ef8-af42-608a0029d64d",
   "metadata": {},
   "outputs": [],
   "source": [
    "mydata = [1776, 1867, 1821]"
   ]
  },
  {
   "cell_type": "code",
   "execution_count": 5,
   "id": "b40ba902-6d2c-4c26-80bf-36cbf765df0f",
   "metadata": {},
   "outputs": [],
   "source": [
    "myser = pd.Series(data=mydata) # default numerical index"
   ]
  },
  {
   "cell_type": "code",
   "execution_count": 6,
   "id": "9896d1ec-57c1-43c2-a437-c4805bae1680",
   "metadata": {},
   "outputs": [
    {
     "data": {
      "text/plain": [
       "0    1776\n",
       "1    1867\n",
       "2    1821\n",
       "dtype: int64"
      ]
     },
     "execution_count": 6,
     "metadata": {},
     "output_type": "execute_result"
    }
   ],
   "source": [
    "myser"
   ]
  },
  {
   "cell_type": "code",
   "execution_count": 7,
   "id": "d05c7380-6906-46d1-81f3-8b9588aa602c",
   "metadata": {},
   "outputs": [
    {
     "data": {
      "text/plain": [
       "pandas.core.series.Series"
      ]
     },
     "execution_count": 7,
     "metadata": {},
     "output_type": "execute_result"
    }
   ],
   "source": [
    "type(myser)"
   ]
  },
  {
   "cell_type": "code",
   "execution_count": 8,
   "id": "9d2de929-7440-42c8-8055-2ca960d2aa98",
   "metadata": {},
   "outputs": [],
   "source": [
    "myser = pd.Series(data=mydata, index=myindex) # index is provided"
   ]
  },
  {
   "cell_type": "code",
   "execution_count": 9,
   "id": "e9763542-b11a-40a9-93f7-10cb28de4966",
   "metadata": {},
   "outputs": [
    {
     "data": {
      "text/plain": [
       "usa       1776\n",
       "canada    1867\n",
       "mexico    1821\n",
       "dtype: int64"
      ]
     },
     "execution_count": 9,
     "metadata": {},
     "output_type": "execute_result"
    }
   ],
   "source": [
    "myser"
   ]
  },
  {
   "cell_type": "code",
   "execution_count": 16,
   "id": "4838e8d5-58ed-49e9-a7ba-64a529b6defc",
   "metadata": {},
   "outputs": [
    {
     "name": "stderr",
     "output_type": "stream",
     "text": [
      "C:\\Users\\sunbi\\AppData\\Local\\Temp\\ipykernel_1416\\3030946548.py:1: FutureWarning: Series.__getitem__ treating keys as positions is deprecated. In a future version, integer keys will always be treated as labels (consistent with DataFrame behavior). To access a value by position, use `ser.iloc[pos]`\n",
      "  myser[0]\n"
     ]
    },
    {
     "data": {
      "text/plain": [
       "1776"
      ]
     },
     "execution_count": 16,
     "metadata": {},
     "output_type": "execute_result"
    }
   ],
   "source": [
    "myser[0] # this is going to be depricated"
   ]
  },
  {
   "cell_type": "code",
   "execution_count": 17,
   "id": "f4a73150-bfb8-4ed6-ad35-ff4bf29263fd",
   "metadata": {},
   "outputs": [
    {
     "data": {
      "text/plain": [
       "1776"
      ]
     },
     "execution_count": 17,
     "metadata": {},
     "output_type": "execute_result"
    }
   ],
   "source": [
    "myser['usa']"
   ]
  },
  {
   "cell_type": "code",
   "execution_count": 18,
   "id": "ba0f8753-e107-4abd-a12b-c70d2e8c0ea6",
   "metadata": {},
   "outputs": [],
   "source": [
    "myser = pd.Series(mydata, myindex) # simple notation"
   ]
  },
  {
   "cell_type": "code",
   "execution_count": 19,
   "id": "9796fd24-4102-4171-8ecb-06be389b8aae",
   "metadata": {},
   "outputs": [
    {
     "data": {
      "text/plain": [
       "usa       1776\n",
       "canada    1867\n",
       "mexico    1821\n",
       "dtype: int64"
      ]
     },
     "execution_count": 19,
     "metadata": {},
     "output_type": "execute_result"
    }
   ],
   "source": [
    "myser"
   ]
  },
  {
   "cell_type": "code",
   "execution_count": 10,
   "id": "c596e60a-2594-42a1-8320-a07112ede328",
   "metadata": {},
   "outputs": [
    {
     "data": {
      "text/plain": [
       "1776"
      ]
     },
     "execution_count": 10,
     "metadata": {},
     "output_type": "execute_result"
    }
   ],
   "source": [
    "myser.iloc[0] # better to use iloc for using default numerical index"
   ]
  },
  {
   "cell_type": "code",
   "execution_count": 11,
   "id": "722e53b0-c7e6-45f4-9383-9f8b75591f5b",
   "metadata": {},
   "outputs": [],
   "source": [
    "ages = {'sam': 5, 'frank': 10, 'spike': 7} "
   ]
  },
  {
   "cell_type": "code",
   "execution_count": 12,
   "id": "edca588e-5db1-43de-8c20-0c7ca1beb5bd",
   "metadata": {},
   "outputs": [],
   "source": [
    "serages = pd.Series(ages) # dict key is automatically transfered as index in series"
   ]
  },
  {
   "cell_type": "code",
   "execution_count": 13,
   "id": "f9c22dd6-99a7-4e74-b792-0e3dbc1f0a61",
   "metadata": {},
   "outputs": [
    {
     "data": {
      "text/plain": [
       "sam       5\n",
       "frank    10\n",
       "spike     7\n",
       "dtype: int64"
      ]
     },
     "execution_count": 13,
     "metadata": {},
     "output_type": "execute_result"
    }
   ],
   "source": [
    "serages"
   ]
  },
  {
   "cell_type": "code",
   "execution_count": 14,
   "id": "d3741294-c204-4368-a647-6b2eb2ff8734",
   "metadata": {},
   "outputs": [
    {
     "data": {
      "text/plain": [
       "5"
      ]
     },
     "execution_count": 14,
     "metadata": {},
     "output_type": "execute_result"
    }
   ],
   "source": [
    "serages.iloc[0]"
   ]
  },
  {
   "cell_type": "code",
   "execution_count": 26,
   "id": "f8c0c1b7-27b5-477a-9553-f23059ea3bd6",
   "metadata": {},
   "outputs": [
    {
     "data": {
      "text/plain": [
       "5"
      ]
     },
     "execution_count": 26,
     "metadata": {},
     "output_type": "execute_result"
    }
   ],
   "source": [
    "serages['sam']"
   ]
  },
  {
   "cell_type": "code",
   "execution_count": null,
   "id": "7ea88697-9892-4c35-b32e-09a212d5245f",
   "metadata": {},
   "outputs": [],
   "source": []
  }
 ],
 "metadata": {
  "kernelspec": {
   "display_name": "Python 3 (ipykernel)",
   "language": "python",
   "name": "python3"
  },
  "language_info": {
   "codemirror_mode": {
    "name": "ipython",
    "version": 3
   },
   "file_extension": ".py",
   "mimetype": "text/x-python",
   "name": "python",
   "nbconvert_exporter": "python",
   "pygments_lexer": "ipython3",
   "version": "3.11.5"
  }
 },
 "nbformat": 4,
 "nbformat_minor": 5
}
