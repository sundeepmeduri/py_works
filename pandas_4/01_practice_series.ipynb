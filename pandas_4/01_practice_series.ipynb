{
 "cells": [
  {
   "cell_type": "code",
   "execution_count": 7,
   "id": "c2502f21-a29d-46c7-a9db-96ace79b60f6",
   "metadata": {
    "tags": []
   },
   "outputs": [],
   "source": [
    "import numpy as np\n",
    "import pandas as pd"
   ]
  },
  {
   "cell_type": "markdown",
   "id": "9daf107b-a175-4f04-aca9-085cc9b5ecad",
   "metadata": {},
   "source": [
    "# create series using list items"
   ]
  },
  {
   "cell_type": "code",
   "execution_count": 8,
   "id": "ea7c6b8b-d064-4e07-8976-e2058b8d3ad6",
   "metadata": {
    "tags": []
   },
   "outputs": [],
   "source": [
    "mydata = [100, 200, 300]"
   ]
  },
  {
   "cell_type": "code",
   "execution_count": 15,
   "id": "4811d13a-efe7-4bea-8b2d-db3c6e41a050",
   "metadata": {
    "tags": []
   },
   "outputs": [],
   "source": [
    "myindex = ['india', 'uk', 'usa']"
   ]
  },
  {
   "cell_type": "code",
   "execution_count": 12,
   "id": "d281fac6-36c9-4748-a497-0467e2bfb35b",
   "metadata": {
    "tags": []
   },
   "outputs": [],
   "source": [
    "myser = pd.Series(mydata)"
   ]
  },
  {
   "cell_type": "code",
   "execution_count": 13,
   "id": "ff979bb3-9cf4-4b57-893b-96e578d435b2",
   "metadata": {
    "tags": []
   },
   "outputs": [
    {
     "data": {
      "text/plain": [
       "0    100\n",
       "1    200\n",
       "2    300\n",
       "dtype: int64"
      ]
     },
     "execution_count": 13,
     "metadata": {},
     "output_type": "execute_result"
    }
   ],
   "source": [
    "myser"
   ]
  },
  {
   "cell_type": "code",
   "execution_count": 18,
   "id": "74fdaef2-234b-4c08-9790-c7cf33e9b96b",
   "metadata": {
    "tags": []
   },
   "outputs": [],
   "source": [
    "myser = pd.Series(mydata, myindex)"
   ]
  },
  {
   "cell_type": "code",
   "execution_count": 19,
   "id": "8c28029b-2041-4ec8-b0b3-a3e36ca502f6",
   "metadata": {
    "tags": []
   },
   "outputs": [
    {
     "data": {
      "text/plain": [
       "india    100\n",
       "uk       200\n",
       "usa      300\n",
       "dtype: int64"
      ]
     },
     "execution_count": 19,
     "metadata": {},
     "output_type": "execute_result"
    }
   ],
   "source": [
    "myser"
   ]
  },
  {
   "cell_type": "code",
   "execution_count": 20,
   "id": "a13bc957-04e4-490e-8a49-add577c1b451",
   "metadata": {
    "tags": []
   },
   "outputs": [
    {
     "data": {
      "text/plain": [
       "300"
      ]
     },
     "execution_count": 20,
     "metadata": {},
     "output_type": "execute_result"
    }
   ],
   "source": [
    "myser['usa']"
   ]
  },
  {
   "cell_type": "code",
   "execution_count": 21,
   "id": "9a7dd23c-ebdc-462b-b064-b58fa14c99f3",
   "metadata": {
    "tags": []
   },
   "outputs": [
    {
     "data": {
      "text/plain": [
       "300"
      ]
     },
     "execution_count": 21,
     "metadata": {},
     "output_type": "execute_result"
    }
   ],
   "source": [
    "myser.loc['usa']"
   ]
  },
  {
   "cell_type": "code",
   "execution_count": 22,
   "id": "905ab8d5-5621-4750-b102-98bd426068ff",
   "metadata": {
    "tags": []
   },
   "outputs": [
    {
     "data": {
      "text/plain": [
       "100"
      ]
     },
     "execution_count": 22,
     "metadata": {},
     "output_type": "execute_result"
    }
   ],
   "source": [
    "myser.iloc[0]"
   ]
  },
  {
   "cell_type": "code",
   "execution_count": 23,
   "id": "191bdc79-e96b-425b-bdd4-3c905ba9370d",
   "metadata": {
    "tags": []
   },
   "outputs": [
    {
     "data": {
      "text/plain": [
       "300"
      ]
     },
     "execution_count": 23,
     "metadata": {},
     "output_type": "execute_result"
    }
   ],
   "source": [
    "myser.max()"
   ]
  },
  {
   "cell_type": "code",
   "execution_count": 24,
   "id": "fe9030d1-dc0a-4559-8986-4337e0fb01de",
   "metadata": {
    "tags": []
   },
   "outputs": [
    {
     "data": {
      "text/plain": [
       "dtype('int64')"
      ]
     },
     "execution_count": 24,
     "metadata": {},
     "output_type": "execute_result"
    }
   ],
   "source": [
    "myser.dtypes"
   ]
  },
  {
   "cell_type": "code",
   "execution_count": 26,
   "id": "786634e7-abe3-4ed2-889f-2d8a9df3aa84",
   "metadata": {
    "tags": []
   },
   "outputs": [
    {
     "data": {
      "text/plain": [
       "1"
      ]
     },
     "execution_count": 26,
     "metadata": {},
     "output_type": "execute_result"
    }
   ],
   "source": [
    "myser.ndim"
   ]
  },
  {
   "cell_type": "markdown",
   "id": "db0eb26f-0f10-4d93-adad-d14473754f7a",
   "metadata": {},
   "source": [
    "# create series using dict"
   ]
  },
  {
   "cell_type": "code",
   "execution_count": 27,
   "id": "879cd835-1c3b-48bc-90df-19ec849de719",
   "metadata": {
    "tags": []
   },
   "outputs": [],
   "source": [
    "dt = {'a':'apple', 'b': 'banana', 'c': 'car'}"
   ]
  },
  {
   "cell_type": "code",
   "execution_count": 28,
   "id": "f7424597-dc88-4f08-959f-cd98097d4a6b",
   "metadata": {
    "tags": []
   },
   "outputs": [],
   "source": [
    "ser = pd.Series(dt)"
   ]
  },
  {
   "cell_type": "code",
   "execution_count": 29,
   "id": "2011c8a8-ffe3-4769-bb1a-fc205749e1f1",
   "metadata": {
    "tags": []
   },
   "outputs": [
    {
     "data": {
      "text/plain": [
       "a     apple\n",
       "b    banana\n",
       "c       car\n",
       "dtype: object"
      ]
     },
     "execution_count": 29,
     "metadata": {},
     "output_type": "execute_result"
    }
   ],
   "source": [
    "ser"
   ]
  },
  {
   "cell_type": "code",
   "execution_count": 30,
   "id": "43ad3312-cae9-4eda-9c73-cc1c8b39bc8c",
   "metadata": {
    "tags": []
   },
   "outputs": [
    {
     "data": {
      "text/plain": [
       "Index(['a', 'b', 'c'], dtype='object')"
      ]
     },
     "execution_count": 30,
     "metadata": {},
     "output_type": "execute_result"
    }
   ],
   "source": [
    "ser.index"
   ]
  },
  {
   "cell_type": "code",
   "execution_count": 31,
   "id": "104af5b9-a464-4b20-81c4-e7841ab08583",
   "metadata": {
    "tags": []
   },
   "outputs": [
    {
     "data": {
      "text/plain": [
       "array(['apple', 'banana', 'car'], dtype=object)"
      ]
     },
     "execution_count": 31,
     "metadata": {},
     "output_type": "execute_result"
    }
   ],
   "source": [
    "ser.values"
   ]
  },
  {
   "cell_type": "code",
   "execution_count": 32,
   "id": "5852b798-82e1-496b-9ed8-4e047b016aca",
   "metadata": {
    "tags": []
   },
   "outputs": [
    {
     "data": {
      "text/plain": [
       "<bound method Series.keys of a     apple\n",
       "b    banana\n",
       "c       car\n",
       "dtype: object>"
      ]
     },
     "execution_count": 32,
     "metadata": {},
     "output_type": "execute_result"
    }
   ],
   "source": [
    "ser.keys"
   ]
  },
  {
   "cell_type": "code",
   "execution_count": 33,
   "id": "a39b7767-6473-4900-979b-2a7f25e78d36",
   "metadata": {
    "tags": []
   },
   "outputs": [
    {
     "data": {
      "text/plain": [
       "pandas.core.series.Series"
      ]
     },
     "execution_count": 33,
     "metadata": {},
     "output_type": "execute_result"
    }
   ],
   "source": [
    "type(ser)"
   ]
  },
  {
   "cell_type": "markdown",
   "id": "f95efb52-f466-400c-a259-13c5ff078cbb",
   "metadata": {},
   "source": [
    "# operations with multiple series"
   ]
  },
  {
   "cell_type": "code",
   "execution_count": 42,
   "id": "f40912ba-ce99-4901-ac85-413be6951146",
   "metadata": {
    "tags": []
   },
   "outputs": [],
   "source": [
    "q1 = {'usa':100, 'japan': 200, 'india': 300}\n",
    "q2 = {'usa':100, 'china': 200, 'india': 300}"
   ]
  },
  {
   "cell_type": "code",
   "execution_count": 43,
   "id": "38c0beb9-1370-4505-8fec-1205401bb3ba",
   "metadata": {
    "tags": []
   },
   "outputs": [],
   "source": [
    "ser_q1 = pd.Series(q1)"
   ]
  },
  {
   "cell_type": "code",
   "execution_count": 44,
   "id": "5a831e7c-8954-4e56-924a-ba94c2745010",
   "metadata": {
    "tags": []
   },
   "outputs": [],
   "source": [
    "ser_q2 = pd.Series(q2)"
   ]
  },
  {
   "cell_type": "code",
   "execution_count": 47,
   "id": "2199e3f3-a0ad-4017-8da0-0fc7f9033e13",
   "metadata": {
    "tags": []
   },
   "outputs": [
    {
     "data": {
      "text/plain": [
       "usa      104\n",
       "japan    204\n",
       "india    304\n",
       "dtype: int64"
      ]
     },
     "execution_count": 47,
     "metadata": {},
     "output_type": "execute_result"
    }
   ],
   "source": [
    "ser_q1 + 4"
   ]
  },
  {
   "cell_type": "code",
   "execution_count": 48,
   "id": "90d0815c-2e27-4bee-8907-b1b62263c193",
   "metadata": {
    "tags": []
   },
   "outputs": [
    {
     "data": {
      "text/plain": [
       "usa      10.0\n",
       "china    20.0\n",
       "india    30.0\n",
       "dtype: float64"
      ]
     },
     "execution_count": 48,
     "metadata": {},
     "output_type": "execute_result"
    }
   ],
   "source": [
    "ser_q2/10 # after any numerical operation the int will be converted to float"
   ]
  },
  {
   "cell_type": "code",
   "execution_count": 50,
   "id": "e8527275-01bc-4430-a039-fa0e59d58191",
   "metadata": {
    "tags": []
   },
   "outputs": [
    {
     "data": {
      "text/plain": [
       "china      NaN\n",
       "india    600.0\n",
       "japan      NaN\n",
       "usa      200.0\n",
       "dtype: float64"
      ]
     },
     "execution_count": 50,
     "metadata": {},
     "output_type": "execute_result"
    }
   ],
   "source": [
    "ser_q1 + ser_q2 # this will fail if any key is not present"
   ]
  },
  {
   "cell_type": "code",
   "execution_count": 52,
   "id": "4f6b676e-b034-4f83-be77-54113c0cc19d",
   "metadata": {
    "tags": []
   },
   "outputs": [
    {
     "data": {
      "text/plain": [
       "china    200.0\n",
       "india    600.0\n",
       "japan    200.0\n",
       "usa      200.0\n",
       "dtype: float64"
      ]
     },
     "execution_count": 52,
     "metadata": {},
     "output_type": "execute_result"
    }
   ],
   "source": [
    "ser_q1.add(ser_q2, fill_value=0)"
   ]
  },
  {
   "cell_type": "code",
   "execution_count": 53,
   "id": "3c8f25ad-be9e-4093-aea5-10d7a9d95e46",
   "metadata": {
    "tags": []
   },
   "outputs": [
    {
     "data": {
      "text/plain": [
       "<bound method Series.keys of usa      100\n",
       "japan    200\n",
       "india    300\n",
       "dtype: int64>"
      ]
     },
     "execution_count": 53,
     "metadata": {},
     "output_type": "execute_result"
    }
   ],
   "source": [
    "ser_q1.keys"
   ]
  },
  {
   "cell_type": "code",
   "execution_count": 54,
   "id": "eb2e8d70-142f-4bdc-8479-93e864a9fdb6",
   "metadata": {
    "tags": []
   },
   "outputs": [
    {
     "data": {
      "text/plain": [
       "array([100, 200, 300], dtype=int64)"
      ]
     },
     "execution_count": 54,
     "metadata": {},
     "output_type": "execute_result"
    }
   ],
   "source": [
    "ser_q1.values"
   ]
  },
  {
   "cell_type": "code",
   "execution_count": 55,
   "id": "b599d723-dbc3-4046-8a30-3210dab7b3bb",
   "metadata": {
    "tags": []
   },
   "outputs": [
    {
     "data": {
      "text/plain": [
       "Index(['usa', 'japan', 'india'], dtype='object')"
      ]
     },
     "execution_count": 55,
     "metadata": {},
     "output_type": "execute_result"
    }
   ],
   "source": [
    "ser_q1.index"
   ]
  },
  {
   "cell_type": "code",
   "execution_count": 57,
   "id": "fe90478f-f614-459a-9044-376bb00de5f6",
   "metadata": {
    "tags": []
   },
   "outputs": [
    {
     "name": "stdout",
     "output_type": "stream",
     "text": [
      "100\n",
      "200\n",
      "300\n"
     ]
    }
   ],
   "source": [
    "for i in ser_q1:\n",
    "    print(i)"
   ]
  },
  {
   "cell_type": "code",
   "execution_count": 59,
   "id": "292a9e27-9931-476f-b3fa-49f678d1b1aa",
   "metadata": {
    "tags": []
   },
   "outputs": [],
   "source": [
    "k = ser_q1.keys"
   ]
  },
  {
   "cell_type": "code",
   "execution_count": 63,
   "id": "a0ba121c-9d2d-41b7-9f76-734b8ae3ad6e",
   "metadata": {
    "tags": []
   },
   "outputs": [
    {
     "data": {
      "text/plain": [
       "pandas.core.series.Series"
      ]
     },
     "execution_count": 63,
     "metadata": {},
     "output_type": "execute_result"
    }
   ],
   "source": [
    "type(ser_q1)"
   ]
  },
  {
   "cell_type": "code",
   "execution_count": null,
   "id": "40d5a415-0d6c-4f24-ba18-96fc4a6f48e6",
   "metadata": {},
   "outputs": [],
   "source": []
  }
 ],
 "metadata": {
  "kernelspec": {
   "display_name": "Python 3 (ipykernel)",
   "language": "python",
   "name": "python3"
  },
  "language_info": {
   "codemirror_mode": {
    "name": "ipython",
    "version": 3
   },
   "file_extension": ".py",
   "mimetype": "text/x-python",
   "name": "python",
   "nbconvert_exporter": "python",
   "pygments_lexer": "ipython3",
   "version": "3.11.5"
  }
 },
 "nbformat": 4,
 "nbformat_minor": 5
}
