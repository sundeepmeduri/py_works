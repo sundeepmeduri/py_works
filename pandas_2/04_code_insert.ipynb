{
 "cells": [
  {
   "cell_type": "code",
   "execution_count": 2,
   "id": "f103adcf-9aab-42b1-b56a-8186dab57cad",
   "metadata": {
    "tags": []
   },
   "outputs": [],
   "source": [
    "import pandas as pd"
   ]
  },
  {
   "cell_type": "code",
   "execution_count": 3,
   "id": "9a7ee669-05ab-4415-be5e-c51597666724",
   "metadata": {
    "tags": []
   },
   "outputs": [],
   "source": [
    "df = pd.DataFrame({'col1': [1, 2], 'col2': [3, 4]})"
   ]
  },
  {
   "cell_type": "markdown",
   "id": "5fb020fd-20c4-4fea-9827-416c71083f44",
   "metadata": {},
   "source": [
    "# insert a column into df"
   ]
  },
  {
   "cell_type": "code",
   "execution_count": 4,
   "id": "4ec10bdc-95d7-4d69-bad6-10920f0240aa",
   "metadata": {
    "tags": []
   },
   "outputs": [
    {
     "data": {
      "text/html": [
       "<div>\n",
       "<style scoped>\n",
       "    .dataframe tbody tr th:only-of-type {\n",
       "        vertical-align: middle;\n",
       "    }\n",
       "\n",
       "    .dataframe tbody tr th {\n",
       "        vertical-align: top;\n",
       "    }\n",
       "\n",
       "    .dataframe thead th {\n",
       "        text-align: right;\n",
       "    }\n",
       "</style>\n",
       "<table border=\"1\" class=\"dataframe\">\n",
       "  <thead>\n",
       "    <tr style=\"text-align: right;\">\n",
       "      <th></th>\n",
       "      <th>col1</th>\n",
       "      <th>col2</th>\n",
       "    </tr>\n",
       "  </thead>\n",
       "  <tbody>\n",
       "    <tr>\n",
       "      <th>0</th>\n",
       "      <td>1</td>\n",
       "      <td>3</td>\n",
       "    </tr>\n",
       "    <tr>\n",
       "      <th>1</th>\n",
       "      <td>2</td>\n",
       "      <td>4</td>\n",
       "    </tr>\n",
       "  </tbody>\n",
       "</table>\n",
       "</div>"
      ],
      "text/plain": [
       "   col1  col2\n",
       "0     1     3\n",
       "1     2     4"
      ]
     },
     "execution_count": 4,
     "metadata": {},
     "output_type": "execute_result"
    }
   ],
   "source": [
    "df"
   ]
  },
  {
   "cell_type": "code",
   "execution_count": 5,
   "id": "7afb7f84-2564-4491-b8c3-e4bfd3cd4f4a",
   "metadata": {
    "tags": []
   },
   "outputs": [],
   "source": [
    "df.insert(1, \"newcol\", [99, 99])"
   ]
  },
  {
   "cell_type": "code",
   "execution_count": 6,
   "id": "9f69ef49-5b35-496a-9183-d6b8d7eb97f7",
   "metadata": {
    "tags": []
   },
   "outputs": [
    {
     "data": {
      "text/html": [
       "<div>\n",
       "<style scoped>\n",
       "    .dataframe tbody tr th:only-of-type {\n",
       "        vertical-align: middle;\n",
       "    }\n",
       "\n",
       "    .dataframe tbody tr th {\n",
       "        vertical-align: top;\n",
       "    }\n",
       "\n",
       "    .dataframe thead th {\n",
       "        text-align: right;\n",
       "    }\n",
       "</style>\n",
       "<table border=\"1\" class=\"dataframe\">\n",
       "  <thead>\n",
       "    <tr style=\"text-align: right;\">\n",
       "      <th></th>\n",
       "      <th>col1</th>\n",
       "      <th>newcol</th>\n",
       "      <th>col2</th>\n",
       "    </tr>\n",
       "  </thead>\n",
       "  <tbody>\n",
       "    <tr>\n",
       "      <th>0</th>\n",
       "      <td>1</td>\n",
       "      <td>99</td>\n",
       "      <td>3</td>\n",
       "    </tr>\n",
       "    <tr>\n",
       "      <th>1</th>\n",
       "      <td>2</td>\n",
       "      <td>99</td>\n",
       "      <td>4</td>\n",
       "    </tr>\n",
       "  </tbody>\n",
       "</table>\n",
       "</div>"
      ],
      "text/plain": [
       "   col1  newcol  col2\n",
       "0     1      99     3\n",
       "1     2      99     4"
      ]
     },
     "execution_count": 6,
     "metadata": {},
     "output_type": "execute_result"
    }
   ],
   "source": [
    "df"
   ]
  },
  {
   "cell_type": "code",
   "execution_count": 7,
   "id": "909f6a61-b3dc-4eb9-8a96-c3568282cd3d",
   "metadata": {
    "tags": []
   },
   "outputs": [],
   "source": [
    "df.insert(0, 'another col',[100, 100])"
   ]
  },
  {
   "cell_type": "code",
   "execution_count": 8,
   "id": "fb145cec-879d-47e6-a7ea-c546743e1f71",
   "metadata": {
    "tags": []
   },
   "outputs": [
    {
     "data": {
      "text/html": [
       "<div>\n",
       "<style scoped>\n",
       "    .dataframe tbody tr th:only-of-type {\n",
       "        vertical-align: middle;\n",
       "    }\n",
       "\n",
       "    .dataframe tbody tr th {\n",
       "        vertical-align: top;\n",
       "    }\n",
       "\n",
       "    .dataframe thead th {\n",
       "        text-align: right;\n",
       "    }\n",
       "</style>\n",
       "<table border=\"1\" class=\"dataframe\">\n",
       "  <thead>\n",
       "    <tr style=\"text-align: right;\">\n",
       "      <th></th>\n",
       "      <th>another col</th>\n",
       "      <th>col1</th>\n",
       "      <th>newcol</th>\n",
       "      <th>col2</th>\n",
       "    </tr>\n",
       "  </thead>\n",
       "  <tbody>\n",
       "    <tr>\n",
       "      <th>0</th>\n",
       "      <td>100</td>\n",
       "      <td>1</td>\n",
       "      <td>99</td>\n",
       "      <td>3</td>\n",
       "    </tr>\n",
       "    <tr>\n",
       "      <th>1</th>\n",
       "      <td>100</td>\n",
       "      <td>2</td>\n",
       "      <td>99</td>\n",
       "      <td>4</td>\n",
       "    </tr>\n",
       "  </tbody>\n",
       "</table>\n",
       "</div>"
      ],
      "text/plain": [
       "   another col  col1  newcol  col2\n",
       "0          100     1      99     3\n",
       "1          100     2      99     4"
      ]
     },
     "execution_count": 8,
     "metadata": {},
     "output_type": "execute_result"
    }
   ],
   "source": [
    "df"
   ]
  },
  {
   "cell_type": "code",
   "execution_count": 9,
   "id": "ad35f85e-d444-47ef-815b-b3f494c30591",
   "metadata": {
    "tags": []
   },
   "outputs": [],
   "source": [
    "df = pd.DataFrame({'A': [1, 2, 3], 'B': [4, 5, 6]})"
   ]
  },
  {
   "cell_type": "code",
   "execution_count": 13,
   "id": "c1fbdee5-1c41-4051-b7ff-4b2c448ae97f",
   "metadata": {
    "tags": []
   },
   "outputs": [
    {
     "name": "stdout",
     "output_type": "stream",
     "text": [
      "A\n",
      "B\n"
     ]
    }
   ],
   "source": [
    "for x in df:\n",
    "    print(x)"
   ]
  },
  {
   "cell_type": "code",
   "execution_count": 14,
   "id": "2b4b8e41-d93e-40d3-abb9-b4c1d14d9f9c",
   "metadata": {
    "tags": []
   },
   "outputs": [],
   "source": [
    "df = pd.DataFrame({'species': ['bear', 'bear', 'marsupial'],\n",
    "                  'population': [1864, 22000, 80000]},\n",
    "                  index=['panda', 'polar', 'koala'])"
   ]
  },
  {
   "cell_type": "code",
   "execution_count": 16,
   "id": "97754b8e-c6cf-4e41-b4b0-770bb310307c",
   "metadata": {
    "tags": []
   },
   "outputs": [
    {
     "data": {
      "text/html": [
       "<div>\n",
       "<style scoped>\n",
       "    .dataframe tbody tr th:only-of-type {\n",
       "        vertical-align: middle;\n",
       "    }\n",
       "\n",
       "    .dataframe tbody tr th {\n",
       "        vertical-align: top;\n",
       "    }\n",
       "\n",
       "    .dataframe thead th {\n",
       "        text-align: right;\n",
       "    }\n",
       "</style>\n",
       "<table border=\"1\" class=\"dataframe\">\n",
       "  <thead>\n",
       "    <tr style=\"text-align: right;\">\n",
       "      <th></th>\n",
       "      <th>species</th>\n",
       "      <th>population</th>\n",
       "    </tr>\n",
       "  </thead>\n",
       "  <tbody>\n",
       "    <tr>\n",
       "      <th>panda</th>\n",
       "      <td>bear</td>\n",
       "      <td>1864</td>\n",
       "    </tr>\n",
       "    <tr>\n",
       "      <th>polar</th>\n",
       "      <td>bear</td>\n",
       "      <td>22000</td>\n",
       "    </tr>\n",
       "    <tr>\n",
       "      <th>koala</th>\n",
       "      <td>marsupial</td>\n",
       "      <td>80000</td>\n",
       "    </tr>\n",
       "  </tbody>\n",
       "</table>\n",
       "</div>"
      ],
      "text/plain": [
       "         species  population\n",
       "panda       bear        1864\n",
       "polar       bear       22000\n",
       "koala  marsupial       80000"
      ]
     },
     "execution_count": 16,
     "metadata": {},
     "output_type": "execute_result"
    }
   ],
   "source": [
    "df"
   ]
  },
  {
   "cell_type": "code",
   "execution_count": 32,
   "id": "2d9ff32e-6755-44d4-8d46-839f6ea4e74f",
   "metadata": {
    "tags": []
   },
   "outputs": [
    {
     "name": "stdout",
     "output_type": "stream",
     "text": [
      "species\n",
      "bear\n",
      "bear\n",
      "marsupial\n",
      "population\n",
      "1864\n",
      "22000\n",
      "80000\n"
     ]
    }
   ],
   "source": [
    "for label, content in df.items():\n",
    "    print(label)\n",
    "    for x in content:\n",
    "        print(x)\n",
    "    "
   ]
  },
  {
   "cell_type": "code",
   "execution_count": 35,
   "id": "dc746465-7b7b-416c-8cb5-9f05d4978914",
   "metadata": {
    "tags": []
   },
   "outputs": [
    {
     "name": "stdout",
     "output_type": "stream",
     "text": [
      "----------\n",
      "('panda', species       bear\n",
      "population    1864\n",
      "Name: panda, dtype: object)\n",
      "Key: panda\n",
      "values: bear\n",
      "values: 1864\n",
      "----------\n",
      "('polar', species        bear\n",
      "population    22000\n",
      "Name: polar, dtype: object)\n",
      "Key: polar\n",
      "values: bear\n",
      "values: 22000\n",
      "----------\n",
      "('koala', species       marsupial\n",
      "population        80000\n",
      "Name: koala, dtype: object)\n",
      "Key: koala\n",
      "values: marsupial\n",
      "values: 80000\n"
     ]
    }
   ],
   "source": [
    "for x in df.iterrows():\n",
    "    print('----------')\n",
    "    print(x)\n",
    "    print('Key:',x[0])\n",
    "    for y in x[1]:\n",
    "        print('values:',y)"
   ]
  },
  {
   "cell_type": "code",
   "execution_count": 53,
   "id": "0571a72b-ae1a-4bbc-8879-eb24713bd0f3",
   "metadata": {
    "tags": []
   },
   "outputs": [
    {
     "name": "stdout",
     "output_type": "stream",
     "text": [
      "-------------\n",
      "bear\n",
      "1864\n",
      "Pandas(Index='panda', species='bear', population=1864)\n",
      "-------------\n",
      "bear\n",
      "22000\n",
      "Pandas(Index='polar', species='bear', population=22000)\n",
      "-------------\n",
      "marsupial\n",
      "80000\n",
      "Pandas(Index='koala', species='marsupial', population=80000)\n"
     ]
    }
   ],
   "source": [
    "for x in df.itertuples():\n",
    "    print('-------------')\n",
    "    print(x.species)\n",
    "    print(x.population)\n",
    "    print(x)"
   ]
  },
  {
   "cell_type": "code",
   "execution_count": null,
   "id": "74d4ddbf-9e97-4000-917e-267cae36fed2",
   "metadata": {},
   "outputs": [],
   "source": []
  }
 ],
 "metadata": {
  "kernelspec": {
   "display_name": "Python 3 (ipykernel)",
   "language": "python",
   "name": "python3"
  },
  "language_info": {
   "codemirror_mode": {
    "name": "ipython",
    "version": 3
   },
   "file_extension": ".py",
   "mimetype": "text/x-python",
   "name": "python",
   "nbconvert_exporter": "python",
   "pygments_lexer": "ipython3",
   "version": "3.11.5"
  }
 },
 "nbformat": 4,
 "nbformat_minor": 5
}
