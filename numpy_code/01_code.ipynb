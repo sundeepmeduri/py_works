{
 "cells": [
  {
   "cell_type": "code",
   "execution_count": 1,
   "id": "d30414b2-b408-4bb3-bfbf-4c3dd67979bf",
   "metadata": {},
   "outputs": [],
   "source": [
    "import numpy as np"
   ]
  },
  {
   "cell_type": "markdown",
   "id": "7ec8533f-f143-4df6-9f82-d618080dde17",
   "metadata": {},
   "source": [
    "# 1d array"
   ]
  },
  {
   "cell_type": "code",
   "execution_count": 2,
   "id": "f6a63537-9d21-40de-a5d0-9d34273044d2",
   "metadata": {},
   "outputs": [],
   "source": [
    "arr = np.array([1,2,3,4,5])"
   ]
  },
  {
   "cell_type": "code",
   "execution_count": 3,
   "id": "ab65810e-5aa8-45c9-be47-b86e269f9d86",
   "metadata": {},
   "outputs": [
    {
     "data": {
      "text/plain": [
       "array([1, 2, 3, 4, 5])"
      ]
     },
     "execution_count": 3,
     "metadata": {},
     "output_type": "execute_result"
    }
   ],
   "source": [
    "arr"
   ]
  },
  {
   "cell_type": "code",
   "execution_count": 4,
   "id": "46166e8d-9e54-421a-aed0-82c23c40646f",
   "metadata": {},
   "outputs": [
    {
     "data": {
      "text/plain": [
       "numpy.ndarray"
      ]
     },
     "execution_count": 4,
     "metadata": {},
     "output_type": "execute_result"
    }
   ],
   "source": [
    "type(arr)"
   ]
  },
  {
   "cell_type": "code",
   "execution_count": 5,
   "id": "ad3758bd-fa19-487e-a971-79ffbc7da2dd",
   "metadata": {},
   "outputs": [
    {
     "data": {
      "text/plain": [
       "1"
      ]
     },
     "execution_count": 5,
     "metadata": {},
     "output_type": "execute_result"
    }
   ],
   "source": [
    "arr.ndim"
   ]
  },
  {
   "cell_type": "markdown",
   "id": "5ac88cd8-5486-416c-88c2-b4c433d7e93d",
   "metadata": {},
   "source": [
    "# 2d array"
   ]
  },
  {
   "cell_type": "code",
   "execution_count": 11,
   "id": "4ecf7078-f13f-467c-bd3d-66744d2b909f",
   "metadata": {},
   "outputs": [],
   "source": [
    "dim2 = np.array([[1,2,3,4],[5,6,7,8]])"
   ]
  },
  {
   "cell_type": "code",
   "execution_count": 12,
   "id": "dd8b9509-7c8e-45ad-9b9b-593e73bc1e10",
   "metadata": {},
   "outputs": [
    {
     "data": {
      "text/plain": [
       "array([[1, 2, 3, 4],\n",
       "       [5, 6, 7, 8]])"
      ]
     },
     "execution_count": 12,
     "metadata": {},
     "output_type": "execute_result"
    }
   ],
   "source": [
    "dim2"
   ]
  },
  {
   "cell_type": "code",
   "execution_count": 13,
   "id": "9d13727f-338a-4658-a539-8fef72827d80",
   "metadata": {},
   "outputs": [
    {
     "data": {
      "text/plain": [
       "dtype('int32')"
      ]
     },
     "execution_count": 13,
     "metadata": {},
     "output_type": "execute_result"
    }
   ],
   "source": [
    "dim2.dtype"
   ]
  },
  {
   "cell_type": "code",
   "execution_count": 14,
   "id": "76823707-6a25-4a20-b5c0-8fee2e33eca3",
   "metadata": {},
   "outputs": [
    {
     "data": {
      "text/plain": [
       "numpy.ndarray"
      ]
     },
     "execution_count": 14,
     "metadata": {},
     "output_type": "execute_result"
    }
   ],
   "source": [
    "type(dim2)"
   ]
  },
  {
   "cell_type": "code",
   "execution_count": 15,
   "id": "c82748a4-dfd9-45c6-9a86-1bdc7972cd31",
   "metadata": {},
   "outputs": [
    {
     "data": {
      "text/plain": [
       "2"
      ]
     },
     "execution_count": 15,
     "metadata": {},
     "output_type": "execute_result"
    }
   ],
   "source": [
    "dim2.ndim"
   ]
  },
  {
   "cell_type": "code",
   "execution_count": 16,
   "id": "440a03d0-6475-42dd-8a8d-1a6e19d60b4c",
   "metadata": {},
   "outputs": [
    {
     "name": "stdout",
     "output_type": "stream",
     "text": [
      "[1 2 3 4]\n",
      "[5 6 7 8]\n"
     ]
    }
   ],
   "source": [
    "for x in dim2:\n",
    "    print(x)"
   ]
  },
  {
   "cell_type": "code",
   "execution_count": 18,
   "id": "8cf23c5b-5278-476f-bdaf-bd711975da08",
   "metadata": {},
   "outputs": [
    {
     "name": "stdout",
     "output_type": "stream",
     "text": [
      "[1 2 3 4]\n",
      "1\n",
      "2\n",
      "3\n",
      "4\n",
      "[5 6 7 8]\n",
      "5\n",
      "6\n",
      "7\n",
      "8\n"
     ]
    }
   ],
   "source": [
    "for x in dim2:\n",
    "    print(x)\n",
    "    for y in x:\n",
    "        print(y)"
   ]
  },
  {
   "cell_type": "code",
   "execution_count": 21,
   "id": "45ce6825-47c0-4dea-9b1e-6376b05f55f5",
   "metadata": {},
   "outputs": [
    {
     "data": {
      "text/plain": [
       "6"
      ]
     },
     "execution_count": 21,
     "metadata": {},
     "output_type": "execute_result"
    }
   ],
   "source": [
    "# get second element in second row -- returns 6\n",
    "dim2[1,1]"
   ]
  },
  {
   "cell_type": "code",
   "execution_count": 22,
   "id": "5e1f25e6-dca3-4f94-bbba-3cb56875bbd7",
   "metadata": {},
   "outputs": [
    {
     "data": {
      "text/plain": [
       "3"
      ]
     },
     "execution_count": 22,
     "metadata": {},
     "output_type": "execute_result"
    }
   ],
   "source": [
    "# get third element in first row -- returns 3\n",
    "dim2[0,2]"
   ]
  },
  {
   "cell_type": "markdown",
   "id": "39e9c29b-d167-48a8-9be2-94e1f3bf02ec",
   "metadata": {},
   "source": [
    "# 2d expanded"
   ]
  },
  {
   "cell_type": "code",
   "execution_count": 23,
   "id": "0488790a-55a5-4a65-9f80-a6d3b9cf74bd",
   "metadata": {},
   "outputs": [],
   "source": [
    "dim2x = np.array([[1,2,3,4],[5,6,7,8],[9,10,11,12]])"
   ]
  },
  {
   "cell_type": "code",
   "execution_count": 24,
   "id": "a4c2abbf-fce1-4a1e-972b-2bbecafb7942",
   "metadata": {},
   "outputs": [
    {
     "data": {
      "text/plain": [
       "2"
      ]
     },
     "execution_count": 24,
     "metadata": {},
     "output_type": "execute_result"
    }
   ],
   "source": [
    "dim2x.ndim"
   ]
  },
  {
   "cell_type": "code",
   "execution_count": 26,
   "id": "794ad78f-193f-46a2-80a6-0107755ec563",
   "metadata": {},
   "outputs": [
    {
     "name": "stdout",
     "output_type": "stream",
     "text": [
      "[1 2 3 4]\n",
      "<class 'numpy.ndarray'>\n",
      "[5 6 7 8]\n",
      "<class 'numpy.ndarray'>\n",
      "[ 9 10 11 12]\n",
      "<class 'numpy.ndarray'>\n"
     ]
    }
   ],
   "source": [
    "for x in dim2x:\n",
    "    print(x)\n",
    "    print(type(x))"
   ]
  },
  {
   "cell_type": "code",
   "execution_count": 27,
   "id": "2fd43536-a26a-4b18-ac4c-d61ca05a4c71",
   "metadata": {},
   "outputs": [
    {
     "name": "stdout",
     "output_type": "stream",
     "text": [
      "[1 2 3 4]\n",
      "1\n",
      "2\n",
      "3\n",
      "4\n",
      "[5 6 7 8]\n",
      "5\n",
      "6\n",
      "7\n",
      "8\n",
      "[ 9 10 11 12]\n",
      "9\n",
      "10\n",
      "11\n",
      "12\n"
     ]
    }
   ],
   "source": [
    "for x in dim2x:\n",
    "    print(x)\n",
    "    for y in x:\n",
    "        print(y)"
   ]
  },
  {
   "cell_type": "code",
   "execution_count": 28,
   "id": "120291cd-0d7d-4a6e-8854-3fa3d808e5cf",
   "metadata": {},
   "outputs": [
    {
     "data": {
      "text/plain": [
       "11"
      ]
     },
     "execution_count": 28,
     "metadata": {},
     "output_type": "execute_result"
    }
   ],
   "source": [
    "# get third row, 3rd element - returns 11\n",
    "dim2x[2,2]"
   ]
  },
  {
   "cell_type": "code",
   "execution_count": 29,
   "id": "fba81b85-0a46-4615-a0fc-b7a9a7da49d1",
   "metadata": {},
   "outputs": [
    {
     "data": {
      "text/plain": [
       "8"
      ]
     },
     "execution_count": 29,
     "metadata": {},
     "output_type": "execute_result"
    }
   ],
   "source": [
    "# get second row 4th element - returns 8\n",
    "dim2x[1,3]"
   ]
  },
  {
   "cell_type": "markdown",
   "id": "7cc9afef-8943-4b1d-8314-5d45f30aee88",
   "metadata": {},
   "source": [
    "# 3d array"
   ]
  },
  {
   "cell_type": "code",
   "execution_count": 30,
   "id": "068a16ea-5e6d-402f-97c3-dc26865abe3c",
   "metadata": {},
   "outputs": [],
   "source": [
    "dim3 = np.array([[[1,2,3],[4,5,6]],[[7,8,9],[10,11,12]]])"
   ]
  },
  {
   "cell_type": "code",
   "execution_count": 31,
   "id": "471fb8be-1e7c-4dea-b0b7-c415c204e01c",
   "metadata": {},
   "outputs": [
    {
     "data": {
      "text/plain": [
       "array([[[ 1,  2,  3],\n",
       "        [ 4,  5,  6]],\n",
       "\n",
       "       [[ 7,  8,  9],\n",
       "        [10, 11, 12]]])"
      ]
     },
     "execution_count": 31,
     "metadata": {},
     "output_type": "execute_result"
    }
   ],
   "source": [
    "dim3"
   ]
  },
  {
   "cell_type": "code",
   "execution_count": 32,
   "id": "2ceb8a02-7af8-42bf-9e40-aecb8b98d8d5",
   "metadata": {},
   "outputs": [
    {
     "data": {
      "text/plain": [
       "numpy.ndarray"
      ]
     },
     "execution_count": 32,
     "metadata": {},
     "output_type": "execute_result"
    }
   ],
   "source": [
    "type(dim3)"
   ]
  },
  {
   "cell_type": "code",
   "execution_count": 33,
   "id": "1b607a32-db9c-4b47-bd12-d2cec16e3db3",
   "metadata": {},
   "outputs": [
    {
     "data": {
      "text/plain": [
       "3"
      ]
     },
     "execution_count": 33,
     "metadata": {},
     "output_type": "execute_result"
    }
   ],
   "source": [
    "dim3.ndim"
   ]
  },
  {
   "cell_type": "code",
   "execution_count": 35,
   "id": "1104f169-3b37-4e44-bfbf-9dda652bdcc5",
   "metadata": {},
   "outputs": [
    {
     "name": "stdout",
     "output_type": "stream",
     "text": [
      "[[1 2 3]\n",
      " [4 5 6]]\n",
      "[[ 7  8  9]\n",
      " [10 11 12]]\n"
     ]
    }
   ],
   "source": [
    "for x in dim3:\n",
    "    print(x)"
   ]
  },
  {
   "cell_type": "code",
   "execution_count": 36,
   "id": "d55a7d60-f6f0-471a-9d8c-7ec49bd3609c",
   "metadata": {},
   "outputs": [
    {
     "name": "stdout",
     "output_type": "stream",
     "text": [
      "[1 2 3]\n",
      "[4 5 6]\n",
      "[7 8 9]\n",
      "[10 11 12]\n"
     ]
    }
   ],
   "source": [
    "for x in dim3:\n",
    "    for y in x:\n",
    "        print(y)"
   ]
  },
  {
   "cell_type": "code",
   "execution_count": 39,
   "id": "ffd67f69-cc1a-4dcd-9080-b62d45c338f8",
   "metadata": {},
   "outputs": [
    {
     "name": "stdout",
     "output_type": "stream",
     "text": [
      "1:  [[1 2 3]\n",
      " [4 5 6]]\n",
      "2:  [1 2 3]\n",
      "3:  1\n",
      "3:  2\n",
      "3:  3\n",
      "2:  [4 5 6]\n",
      "3:  4\n",
      "3:  5\n",
      "3:  6\n",
      "1:  [[ 7  8  9]\n",
      " [10 11 12]]\n",
      "2:  [7 8 9]\n",
      "3:  7\n",
      "3:  8\n",
      "3:  9\n",
      "2:  [10 11 12]\n",
      "3:  10\n",
      "3:  11\n",
      "3:  12\n"
     ]
    }
   ],
   "source": [
    "for x in dim3:\n",
    "    print('1: ',x)\n",
    "    for y in x:\n",
    "        print('2: ',y)\n",
    "        for z in y:\n",
    "            print('3: ',z)"
   ]
  },
  {
   "cell_type": "code",
   "execution_count": 41,
   "id": "ac51a193-899d-471f-a783-f7552b892a19",
   "metadata": {},
   "outputs": [
    {
     "name": "stdout",
     "output_type": "stream",
     "text": [
      "1\n",
      "2\n",
      "3\n",
      "4\n",
      "5\n",
      "6\n",
      "7\n",
      "8\n",
      "9\n",
      "10\n",
      "11\n",
      "12\n"
     ]
    }
   ],
   "source": [
    "for x in np.nditer(dim3):\n",
    "    print(x)"
   ]
  },
  {
   "cell_type": "code",
   "execution_count": null,
   "id": "e89d5ec1-bfae-4bc5-9362-fe6b1b393397",
   "metadata": {},
   "outputs": [],
   "source": []
  }
 ],
 "metadata": {
  "kernelspec": {
   "display_name": "Python 3 (ipykernel)",
   "language": "python",
   "name": "python3"
  },
  "language_info": {
   "codemirror_mode": {
    "name": "ipython",
    "version": 3
   },
   "file_extension": ".py",
   "mimetype": "text/x-python",
   "name": "python",
   "nbconvert_exporter": "python",
   "pygments_lexer": "ipython3",
   "version": "3.11.5"
  }
 },
 "nbformat": 4,
 "nbformat_minor": 5
}
