{
 "cells": [
  {
   "cell_type": "code",
   "execution_count": 1,
   "id": "96727ed5-eefb-4867-8f39-082e0d917ec4",
   "metadata": {},
   "outputs": [],
   "source": [
    "import numpy as np"
   ]
  },
  {
   "cell_type": "code",
   "execution_count": 31,
   "id": "f9739018-87e5-4cf8-8979-ae71a8ca5a26",
   "metadata": {},
   "outputs": [],
   "source": [
    "arr = np.arange(0,10)"
   ]
  },
  {
   "cell_type": "code",
   "execution_count": 32,
   "id": "da684907-d790-4119-8013-ea60fe4d72e5",
   "metadata": {},
   "outputs": [
    {
     "data": {
      "text/plain": [
       "array([0, 1, 2, 3, 4, 5, 6, 7, 8, 9])"
      ]
     },
     "execution_count": 32,
     "metadata": {},
     "output_type": "execute_result"
    }
   ],
   "source": [
    "arr"
   ]
  },
  {
   "cell_type": "code",
   "execution_count": 33,
   "id": "bc7310e0-f16f-4fd3-a92b-958d3ad9f9b7",
   "metadata": {},
   "outputs": [
    {
     "data": {
      "text/plain": [
       "4"
      ]
     },
     "execution_count": 33,
     "metadata": {},
     "output_type": "execute_result"
    }
   ],
   "source": [
    "arr[4]"
   ]
  },
  {
   "cell_type": "code",
   "execution_count": 34,
   "id": "ec860570-a6a7-47d6-9ade-0fb8eeb91534",
   "metadata": {},
   "outputs": [
    {
     "data": {
      "text/plain": [
       "array([1, 2, 3, 4])"
      ]
     },
     "execution_count": 34,
     "metadata": {},
     "output_type": "execute_result"
    }
   ],
   "source": [
    "arr[1:5] # specific start and end"
   ]
  },
  {
   "cell_type": "code",
   "execution_count": 35,
   "id": "59034cf6-406b-4645-8d28-639319236693",
   "metadata": {},
   "outputs": [
    {
     "data": {
      "text/plain": [
       "array([0, 1, 2, 3, 4])"
      ]
     },
     "execution_count": 35,
     "metadata": {},
     "output_type": "execute_result"
    }
   ],
   "source": [
    "arr[:5] # from the start"
   ]
  },
  {
   "cell_type": "code",
   "execution_count": 36,
   "id": "d0ab1356-4b9d-44b4-bd51-6b2c19606c33",
   "metadata": {},
   "outputs": [
    {
     "data": {
      "text/plain": [
       "array([5, 6, 7, 8, 9])"
      ]
     },
     "execution_count": 36,
     "metadata": {},
     "output_type": "execute_result"
    }
   ],
   "source": [
    "arr[5:] # from the end"
   ]
  },
  {
   "cell_type": "markdown",
   "id": "b66d5cdc-62da-4539-8db4-79e77bb81ce7",
   "metadata": {},
   "source": [
    "# broadcasting"
   ]
  },
  {
   "cell_type": "code",
   "execution_count": 37,
   "id": "b70a5644-ccd7-4bac-9647-e1823fd47ddd",
   "metadata": {},
   "outputs": [],
   "source": [
    "# broad casting in numpy\n",
    "arr[0:5] = 100 # this is not possible in list"
   ]
  },
  {
   "cell_type": "code",
   "execution_count": 38,
   "id": "ce7ecef0-9b96-498b-8b1b-26f0beeb688a",
   "metadata": {},
   "outputs": [
    {
     "data": {
      "text/plain": [
       "array([100, 100, 100, 100, 100,   5,   6,   7,   8,   9])"
      ]
     },
     "execution_count": 38,
     "metadata": {},
     "output_type": "execute_result"
    }
   ],
   "source": [
    "arr"
   ]
  },
  {
   "cell_type": "code",
   "execution_count": 39,
   "id": "d8550e8a-4388-4d90-bb0a-9e788a9af1ca",
   "metadata": {},
   "outputs": [],
   "source": [
    "arr = np.arange(0,10)"
   ]
  },
  {
   "cell_type": "code",
   "execution_count": 40,
   "id": "d0a40a6a-e729-4539-a1f4-7d088aca6758",
   "metadata": {},
   "outputs": [],
   "source": [
    "slice_arr = arr[0:5]  # incorrect way to copy elements"
   ]
  },
  {
   "cell_type": "code",
   "execution_count": 41,
   "id": "31bfc8fa-4ecd-41aa-9817-2cc623bf92ab",
   "metadata": {},
   "outputs": [
    {
     "data": {
      "text/plain": [
       "array([0, 1, 2, 3, 4])"
      ]
     },
     "execution_count": 41,
     "metadata": {},
     "output_type": "execute_result"
    }
   ],
   "source": [
    "slice_arr"
   ]
  },
  {
   "cell_type": "code",
   "execution_count": 42,
   "id": "f6d73844-d665-4c85-9c05-a485293c07a7",
   "metadata": {},
   "outputs": [],
   "source": [
    "slice_arr[:] = 99"
   ]
  },
  {
   "cell_type": "code",
   "execution_count": 43,
   "id": "fc6b04db-f21d-40d1-98d0-3004298dcb46",
   "metadata": {},
   "outputs": [
    {
     "data": {
      "text/plain": [
       "array([99, 99, 99, 99, 99])"
      ]
     },
     "execution_count": 43,
     "metadata": {},
     "output_type": "execute_result"
    }
   ],
   "source": [
    "slice_arr"
   ]
  },
  {
   "cell_type": "code",
   "execution_count": 44,
   "id": "5831fabb-2d94-4305-b01f-56b527f0c24b",
   "metadata": {},
   "outputs": [
    {
     "data": {
      "text/plain": [
       "array([99, 99, 99, 99, 99,  5,  6,  7,  8,  9])"
      ]
     },
     "execution_count": 44,
     "metadata": {},
     "output_type": "execute_result"
    }
   ],
   "source": [
    "arr # the above operation has effected the original array"
   ]
  },
  {
   "cell_type": "code",
   "execution_count": 48,
   "id": "d985735d-c2b2-47b6-93f6-dc592f933ae3",
   "metadata": {},
   "outputs": [],
   "source": [
    "arr_copy = arr.copy()  # right way to copy arrays"
   ]
  },
  {
   "cell_type": "code",
   "execution_count": 49,
   "id": "df869a53-a346-4702-9edb-8b94814f9bf9",
   "metadata": {},
   "outputs": [
    {
     "data": {
      "text/plain": [
       "array([99, 99, 99, 99, 99,  5,  6,  7,  8,  9])"
      ]
     },
     "execution_count": 49,
     "metadata": {},
     "output_type": "execute_result"
    }
   ],
   "source": [
    "arr_copy"
   ]
  },
  {
   "cell_type": "code",
   "execution_count": 50,
   "id": "35c15237-24f0-45cd-97a9-a924a68eca0f",
   "metadata": {},
   "outputs": [],
   "source": [
    "arr_copy[:5] = 100"
   ]
  },
  {
   "cell_type": "code",
   "execution_count": 51,
   "id": "cbf56b4a-7653-48e0-aa11-78c003ac4ae2",
   "metadata": {},
   "outputs": [
    {
     "data": {
      "text/plain": [
       "array([100, 100, 100, 100, 100,   5,   6,   7,   8,   9])"
      ]
     },
     "execution_count": 51,
     "metadata": {},
     "output_type": "execute_result"
    }
   ],
   "source": [
    "arr_copy"
   ]
  },
  {
   "cell_type": "code",
   "execution_count": 52,
   "id": "47accf14-b938-4cf0-919e-0daba4900dc1",
   "metadata": {},
   "outputs": [
    {
     "data": {
      "text/plain": [
       "array([99, 99, 99, 99, 99,  5,  6,  7,  8,  9])"
      ]
     },
     "execution_count": 52,
     "metadata": {},
     "output_type": "execute_result"
    }
   ],
   "source": [
    "arr # this time the original array is not changed since we used copy function"
   ]
  },
  {
   "cell_type": "markdown",
   "id": "8a9266c0-2fb9-4dac-b000-d909c1e069f3",
   "metadata": {},
   "source": [
    "# 2d array"
   ]
  },
  {
   "cell_type": "code",
   "execution_count": 53,
   "id": "b88d8616-317b-46d6-b4af-a7d2eda49632",
   "metadata": {},
   "outputs": [],
   "source": [
    "arr2 = np.array([[5,10,15],[20,25,30],[35,40,45]])"
   ]
  },
  {
   "cell_type": "code",
   "execution_count": 54,
   "id": "33c0351c-d55b-4195-8a56-e5dfe512cdde",
   "metadata": {},
   "outputs": [
    {
     "data": {
      "text/plain": [
       "2"
      ]
     },
     "execution_count": 54,
     "metadata": {},
     "output_type": "execute_result"
    }
   ],
   "source": [
    "arr2.ndim"
   ]
  },
  {
   "cell_type": "code",
   "execution_count": 61,
   "id": "6c634b7c-8207-4545-a029-96721b419d92",
   "metadata": {},
   "outputs": [
    {
     "data": {
      "text/plain": [
       "(3, 3)"
      ]
     },
     "execution_count": 61,
     "metadata": {},
     "output_type": "execute_result"
    }
   ],
   "source": [
    "arr2.shape"
   ]
  },
  {
   "cell_type": "code",
   "execution_count": 55,
   "id": "0817401c-50b7-48d7-bdb0-078c84c910d2",
   "metadata": {},
   "outputs": [
    {
     "data": {
      "text/plain": [
       "array([[ 5, 10, 15],\n",
       "       [20, 25, 30],\n",
       "       [35, 40, 45]])"
      ]
     },
     "execution_count": 55,
     "metadata": {},
     "output_type": "execute_result"
    }
   ],
   "source": [
    "arr2"
   ]
  },
  {
   "cell_type": "code",
   "execution_count": 58,
   "id": "114bfbc2-efd1-4929-a30d-780d57c5fe85",
   "metadata": {},
   "outputs": [
    {
     "data": {
      "text/plain": [
       "30"
      ]
     },
     "execution_count": 58,
     "metadata": {},
     "output_type": "execute_result"
    }
   ],
   "source": [
    "arr2[1,2]  # get 3 col in 2nd row -- returns 30"
   ]
  },
  {
   "cell_type": "code",
   "execution_count": 60,
   "id": "1b3828c5-b7c9-44d3-87d4-abde55912324",
   "metadata": {},
   "outputs": [
    {
     "data": {
      "text/plain": [
       "40"
      ]
     },
     "execution_count": 60,
     "metadata": {},
     "output_type": "execute_result"
    }
   ],
   "source": [
    "arr2[2,1] # second col in 3rd row -- returns 40"
   ]
  },
  {
   "cell_type": "code",
   "execution_count": 63,
   "id": "bea543f5-4b74-47d0-be0c-ebd8a1af7b2c",
   "metadata": {},
   "outputs": [
    {
     "data": {
      "text/plain": [
       "array([25, 30])"
      ]
     },
     "execution_count": 63,
     "metadata": {},
     "output_type": "execute_result"
    }
   ],
   "source": [
    "arr2[1,1:] # last 2 elemts in second row"
   ]
  },
  {
   "cell_type": "code",
   "execution_count": 65,
   "id": "5c874af3-a847-4836-bf83-16f11bb9eb4b",
   "metadata": {},
   "outputs": [
    {
     "data": {
      "text/plain": [
       "array([10, 25])"
      ]
     },
     "execution_count": 65,
     "metadata": {},
     "output_type": "execute_result"
    }
   ],
   "source": [
    "arr2[0:2,1] # second element of first 2 rows"
   ]
  },
  {
   "cell_type": "markdown",
   "id": "7a7f79e2-2256-412a-9665-9775ea56bf77",
   "metadata": {},
   "source": [
    "# filtering numpy's"
   ]
  },
  {
   "cell_type": "code",
   "execution_count": 67,
   "id": "40bc9ab5-b55e-449f-9424-f3dc1e4d4286",
   "metadata": {},
   "outputs": [],
   "source": [
    "arrf = np.arange(0,10)"
   ]
  },
  {
   "cell_type": "code",
   "execution_count": 68,
   "id": "22cf837c-6d05-4424-9514-d750ec254d8b",
   "metadata": {},
   "outputs": [
    {
     "data": {
      "text/plain": [
       "array([0, 1, 2, 3, 4, 5, 6, 7, 8, 9])"
      ]
     },
     "execution_count": 68,
     "metadata": {},
     "output_type": "execute_result"
    }
   ],
   "source": [
    "arrf"
   ]
  },
  {
   "cell_type": "code",
   "execution_count": 69,
   "id": "c67aa9a3-9f5e-4c29-879d-481c670a0e73",
   "metadata": {},
   "outputs": [],
   "source": [
    "bool_arr = arrf > 4"
   ]
  },
  {
   "cell_type": "code",
   "execution_count": 70,
   "id": "6e6cda04-1acf-4ff0-81df-7f78fc815e03",
   "metadata": {},
   "outputs": [
    {
     "data": {
      "text/plain": [
       "array([False, False, False, False, False,  True,  True,  True,  True,\n",
       "        True])"
      ]
     },
     "execution_count": 70,
     "metadata": {},
     "output_type": "execute_result"
    }
   ],
   "source": [
    "bool_arr"
   ]
  },
  {
   "cell_type": "code",
   "execution_count": 71,
   "id": "c6951b33-c44c-4a64-99ca-b72e98cdd381",
   "metadata": {},
   "outputs": [
    {
     "data": {
      "text/plain": [
       "array([5, 6, 7, 8, 9])"
      ]
     },
     "execution_count": 71,
     "metadata": {},
     "output_type": "execute_result"
    }
   ],
   "source": [
    "arrf[bool_arr]"
   ]
  },
  {
   "cell_type": "code",
   "execution_count": 74,
   "id": "b2f2d90f-c61f-40ae-a9b3-5bb85b2d0fa7",
   "metadata": {},
   "outputs": [
    {
     "data": {
      "text/plain": [
       "array([5, 6, 7, 8, 9])"
      ]
     },
     "execution_count": 74,
     "metadata": {},
     "output_type": "execute_result"
    }
   ],
   "source": [
    "arrf[arrf > 4] # direct way to filter"
   ]
  },
  {
   "cell_type": "code",
   "execution_count": null,
   "id": "98aa7811-15c3-4e87-9a88-3f5faa8a8002",
   "metadata": {},
   "outputs": [],
   "source": []
  }
 ],
 "metadata": {
  "kernelspec": {
   "display_name": "Python 3 (ipykernel)",
   "language": "python",
   "name": "python3"
  },
  "language_info": {
   "codemirror_mode": {
    "name": "ipython",
    "version": 3
   },
   "file_extension": ".py",
   "mimetype": "text/x-python",
   "name": "python",
   "nbconvert_exporter": "python",
   "pygments_lexer": "ipython3",
   "version": "3.11.5"
  }
 },
 "nbformat": 4,
 "nbformat_minor": 5
}
