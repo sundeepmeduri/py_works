{
 "cells": [
  {
   "cell_type": "code",
   "execution_count": 1,
   "id": "0eec5fa9-684b-477c-bf8b-ebdddb8b457e",
   "metadata": {},
   "outputs": [],
   "source": [
    "import numpy as np"
   ]
  },
  {
   "cell_type": "markdown",
   "id": "4a444ad8-89b2-44a0-8f40-8a09a3e1238c",
   "metadata": {},
   "source": [
    "# 1 dim array"
   ]
  },
  {
   "cell_type": "code",
   "execution_count": 2,
   "id": "617e048a-8fc8-4e3a-9b52-10e263595e53",
   "metadata": {},
   "outputs": [],
   "source": [
    "mylist = [1,2,3,4]"
   ]
  },
  {
   "cell_type": "code",
   "execution_count": 3,
   "id": "b915fc7e-d4a1-40dd-ac38-0d67af84766b",
   "metadata": {},
   "outputs": [
    {
     "data": {
      "text/plain": [
       "list"
      ]
     },
     "execution_count": 3,
     "metadata": {},
     "output_type": "execute_result"
    }
   ],
   "source": [
    "type(mylist)"
   ]
  },
  {
   "cell_type": "code",
   "execution_count": 4,
   "id": "31fff018-5d76-4c2e-88c5-05a0aa00eda1",
   "metadata": {},
   "outputs": [],
   "source": [
    "myarr = np.array(mylist)"
   ]
  },
  {
   "cell_type": "code",
   "execution_count": 5,
   "id": "b05cf86e-4fb6-4d4c-8521-f89910c6659f",
   "metadata": {},
   "outputs": [
    {
     "data": {
      "text/plain": [
       "numpy.ndarray"
      ]
     },
     "execution_count": 5,
     "metadata": {},
     "output_type": "execute_result"
    }
   ],
   "source": [
    "type(myarr)"
   ]
  },
  {
   "cell_type": "code",
   "execution_count": 6,
   "id": "57494df0-7446-4d13-abac-29341c4d49af",
   "metadata": {},
   "outputs": [
    {
     "data": {
      "text/plain": [
       "array([1, 2, 3, 4])"
      ]
     },
     "execution_count": 6,
     "metadata": {},
     "output_type": "execute_result"
    }
   ],
   "source": [
    "myarr"
   ]
  },
  {
   "cell_type": "code",
   "execution_count": 7,
   "id": "51105196-4402-4dee-9a0c-8aef094d16b6",
   "metadata": {},
   "outputs": [
    {
     "data": {
      "text/plain": [
       "1"
      ]
     },
     "execution_count": 7,
     "metadata": {},
     "output_type": "execute_result"
    }
   ],
   "source": [
    "myarr.ndim"
   ]
  },
  {
   "cell_type": "code",
   "execution_count": 16,
   "id": "00c6873e-2dc6-45ef-951a-cb432920fb59",
   "metadata": {},
   "outputs": [
    {
     "name": "stdout",
     "output_type": "stream",
     "text": [
      "1\n",
      "2\n",
      "3\n",
      "4\n"
     ]
    }
   ],
   "source": [
    "for x in myarr:\n",
    "    print(x)"
   ]
  },
  {
   "cell_type": "markdown",
   "id": "492eb0e3-241d-4ca9-aa0f-f5a3d2b3cfa7",
   "metadata": {},
   "source": [
    "# 2 dim array"
   ]
  },
  {
   "cell_type": "code",
   "execution_count": 8,
   "id": "04aa8df3-b64f-4ab4-aca4-154d0eefcad6",
   "metadata": {},
   "outputs": [],
   "source": [
    "mylist2 = [[1,2,3],[4,5,6,],[7,8,9]]"
   ]
  },
  {
   "cell_type": "code",
   "execution_count": 9,
   "id": "3c2f1b0a-69e3-4043-82ab-91b1361182ba",
   "metadata": {},
   "outputs": [
    {
     "data": {
      "text/plain": [
       "list"
      ]
     },
     "execution_count": 9,
     "metadata": {},
     "output_type": "execute_result"
    }
   ],
   "source": [
    "type(mylist2)"
   ]
  },
  {
   "cell_type": "code",
   "execution_count": 12,
   "id": "8e9a1198-f746-4d8e-bb2a-f4e348bb1ba0",
   "metadata": {},
   "outputs": [],
   "source": [
    "myarr2 = np.array(mylist2)"
   ]
  },
  {
   "cell_type": "code",
   "execution_count": 13,
   "id": "06a1df4d-5e26-498b-8b52-037237937ec9",
   "metadata": {},
   "outputs": [
    {
     "data": {
      "text/plain": [
       "numpy.ndarray"
      ]
     },
     "execution_count": 13,
     "metadata": {},
     "output_type": "execute_result"
    }
   ],
   "source": [
    "type(myarr2)"
   ]
  },
  {
   "cell_type": "code",
   "execution_count": 14,
   "id": "aef076ab-9e81-4dd8-9169-f974eda18bd2",
   "metadata": {},
   "outputs": [
    {
     "data": {
      "text/plain": [
       "array([[1, 2, 3],\n",
       "       [4, 5, 6],\n",
       "       [7, 8, 9]])"
      ]
     },
     "execution_count": 14,
     "metadata": {},
     "output_type": "execute_result"
    }
   ],
   "source": [
    "myarr2"
   ]
  },
  {
   "cell_type": "code",
   "execution_count": 15,
   "id": "2bcd1302-4428-4abc-945e-2ec0c35ee306",
   "metadata": {},
   "outputs": [
    {
     "data": {
      "text/plain": [
       "2"
      ]
     },
     "execution_count": 15,
     "metadata": {},
     "output_type": "execute_result"
    }
   ],
   "source": [
    "myarr2.ndim"
   ]
  },
  {
   "cell_type": "code",
   "execution_count": 19,
   "id": "8d0e701d-d743-4fe7-b2ba-9817e179ff93",
   "metadata": {},
   "outputs": [
    {
     "name": "stdout",
     "output_type": "stream",
     "text": [
      "[1 2 3]\n",
      "<class 'numpy.ndarray'>\n",
      "1\n",
      "[4 5 6]\n",
      "<class 'numpy.ndarray'>\n",
      "1\n",
      "[7 8 9]\n",
      "<class 'numpy.ndarray'>\n",
      "1\n"
     ]
    }
   ],
   "source": [
    "for x in myarr2:\n",
    "    print(x)\n",
    "    print(type(x))\n",
    "    print(x.ndim)"
   ]
  },
  {
   "cell_type": "code",
   "execution_count": 21,
   "id": "562cc605-890e-4a1f-8152-06803dc34eee",
   "metadata": {},
   "outputs": [
    {
     "name": "stdout",
     "output_type": "stream",
     "text": [
      "[1 2 3]\n",
      "1\n",
      "2\n",
      "3\n",
      "[4 5 6]\n",
      "4\n",
      "5\n",
      "6\n",
      "[7 8 9]\n",
      "7\n",
      "8\n",
      "9\n"
     ]
    }
   ],
   "source": [
    "for x in myarr2:\n",
    "    print(x)\n",
    "    for y in x:\n",
    "        print(y)"
   ]
  },
  {
   "cell_type": "code",
   "execution_count": 23,
   "id": "24a7ee2c-31db-47ea-87c1-17af431fb2ff",
   "metadata": {},
   "outputs": [
    {
     "name": "stdout",
     "output_type": "stream",
     "text": [
      "1\n",
      "2\n",
      "3\n",
      "4\n",
      "5\n",
      "6\n",
      "7\n",
      "8\n",
      "9\n"
     ]
    }
   ],
   "source": [
    "for x in np.nditer(myarr2):  # flattens the array\n",
    "    print(x)"
   ]
  },
  {
   "cell_type": "markdown",
   "id": "804cd38a-9f76-4009-91d1-1c8511663312",
   "metadata": {},
   "source": [
    "# 3 dim array"
   ]
  },
  {
   "cell_type": "code",
   "execution_count": 24,
   "id": "17458db0-660c-40c0-b4ef-13ed1520817a",
   "metadata": {},
   "outputs": [],
   "source": [
    "mylist3 = [ [[1,2,3], [4,5,6]], [[7,8,9],[10,11,12]], [[13,14,15],[16,17,18]] ]"
   ]
  },
  {
   "cell_type": "code",
   "execution_count": 25,
   "id": "f58f0a81-e0e7-4ff9-afe8-19b41e147dc5",
   "metadata": {},
   "outputs": [
    {
     "data": {
      "text/plain": [
       "list"
      ]
     },
     "execution_count": 25,
     "metadata": {},
     "output_type": "execute_result"
    }
   ],
   "source": [
    "type(mylist3)"
   ]
  },
  {
   "cell_type": "code",
   "execution_count": 26,
   "id": "a75c0d5e-cb57-4b73-8094-896e1088f345",
   "metadata": {},
   "outputs": [
    {
     "name": "stdout",
     "output_type": "stream",
     "text": [
      "[[1, 2, 3], [4, 5, 6]]\n",
      "[[7, 8, 9], [10, 11, 12]]\n",
      "[[13, 14, 15], [16, 17, 18]]\n"
     ]
    }
   ],
   "source": [
    "for x in mylist3:\n",
    "    print(x)"
   ]
  },
  {
   "cell_type": "code",
   "execution_count": 28,
   "id": "dee4769b-6f64-4033-a8f7-cbdb0aaf947a",
   "metadata": {},
   "outputs": [
    {
     "name": "stdout",
     "output_type": "stream",
     "text": [
      "[[1, 2, 3], [4, 5, 6]]\n",
      "[1, 2, 3]\n",
      "1\n",
      "2\n",
      "3\n",
      "[4, 5, 6]\n",
      "4\n",
      "5\n",
      "6\n",
      "[[7, 8, 9], [10, 11, 12]]\n",
      "[7, 8, 9]\n",
      "7\n",
      "8\n",
      "9\n",
      "[10, 11, 12]\n",
      "10\n",
      "11\n",
      "12\n",
      "[[13, 14, 15], [16, 17, 18]]\n",
      "[13, 14, 15]\n",
      "13\n",
      "14\n",
      "15\n",
      "[16, 17, 18]\n",
      "16\n",
      "17\n",
      "18\n"
     ]
    }
   ],
   "source": [
    "for x in mylist3:\n",
    "    print(x)\n",
    "    for y in x:\n",
    "        print(y)\n",
    "        for z in y:\n",
    "            print(z)"
   ]
  },
  {
   "cell_type": "code",
   "execution_count": 29,
   "id": "73059b5b-8503-4f54-b624-8ddd61edfe4d",
   "metadata": {},
   "outputs": [],
   "source": [
    "myarr3 = np.array(mylist3)"
   ]
  },
  {
   "cell_type": "code",
   "execution_count": 30,
   "id": "936f8346-676c-4107-b8cf-332f85997a88",
   "metadata": {},
   "outputs": [
    {
     "data": {
      "text/plain": [
       "array([[[ 1,  2,  3],\n",
       "        [ 4,  5,  6]],\n",
       "\n",
       "       [[ 7,  8,  9],\n",
       "        [10, 11, 12]],\n",
       "\n",
       "       [[13, 14, 15],\n",
       "        [16, 17, 18]]])"
      ]
     },
     "execution_count": 30,
     "metadata": {},
     "output_type": "execute_result"
    }
   ],
   "source": [
    "myarr3"
   ]
  },
  {
   "cell_type": "code",
   "execution_count": 31,
   "id": "01c328ef-7aee-4a90-89e8-bc7dbdcf16db",
   "metadata": {},
   "outputs": [
    {
     "data": {
      "text/plain": [
       "3"
      ]
     },
     "execution_count": 31,
     "metadata": {},
     "output_type": "execute_result"
    }
   ],
   "source": [
    "myarr3.ndim"
   ]
  },
  {
   "cell_type": "code",
   "execution_count": 32,
   "id": "82b94c11-5054-41b4-bb8c-7ff24d27474f",
   "metadata": {},
   "outputs": [
    {
     "data": {
      "text/plain": [
       "numpy.ndarray"
      ]
     },
     "execution_count": 32,
     "metadata": {},
     "output_type": "execute_result"
    }
   ],
   "source": [
    "type(myarr3)"
   ]
  },
  {
   "cell_type": "markdown",
   "id": "f393bd23-47d7-4e46-8b04-87f0d1d14973",
   "metadata": {},
   "source": [
    "# 4d array"
   ]
  },
  {
   "cell_type": "code",
   "execution_count": 39,
   "id": "e5f7620e-9b79-417c-a069-678aa2f5de56",
   "metadata": {},
   "outputs": [],
   "source": [
    "mylist4 = [ [[[1,2],[3,4]], [[4,5],[6,7]]], [[[7,8],[9,10]],[[10,11],[12,13]]], [[[14,15],[16,17]],[[18,19],[20,21]]] ]"
   ]
  },
  {
   "cell_type": "code",
   "execution_count": 40,
   "id": "1199efb4-8154-4df0-ae99-ec51402a0ae6",
   "metadata": {},
   "outputs": [],
   "source": [
    "myarr4 = np.array(mylist4)"
   ]
  },
  {
   "cell_type": "code",
   "execution_count": 41,
   "id": "663b300e-782f-4ba2-8739-b0be3955f4d4",
   "metadata": {},
   "outputs": [
    {
     "data": {
      "text/plain": [
       "4"
      ]
     },
     "execution_count": 41,
     "metadata": {},
     "output_type": "execute_result"
    }
   ],
   "source": [
    "myarr4.ndim"
   ]
  },
  {
   "cell_type": "code",
   "execution_count": 43,
   "id": "0ac1c261-ae8c-47a5-accf-800e114090a5",
   "metadata": {},
   "outputs": [
    {
     "name": "stdout",
     "output_type": "stream",
     "text": [
      "[[[1 2]\n",
      "  [3 4]]\n",
      "\n",
      " [[4 5]\n",
      "  [6 7]]]\n",
      "[[[ 7  8]\n",
      "  [ 9 10]]\n",
      "\n",
      " [[10 11]\n",
      "  [12 13]]]\n",
      "[[[14 15]\n",
      "  [16 17]]\n",
      "\n",
      " [[18 19]\n",
      "  [20 21]]]\n"
     ]
    }
   ],
   "source": [
    "for a in myarr4:\n",
    "    print(a)"
   ]
  },
  {
   "cell_type": "code",
   "execution_count": 47,
   "id": "eac6fc57-1c3b-40c4-aa9f-580035c13a17",
   "metadata": {},
   "outputs": [
    {
     "name": "stdout",
     "output_type": "stream",
     "text": [
      "[[[1 2]\n",
      "  [3 4]]\n",
      "\n",
      " [[4 5]\n",
      "  [6 7]]]\n",
      "[[1 2]\n",
      " [3 4]]\n",
      "[1 2]\n",
      "1\n",
      "2\n",
      "[3 4]\n",
      "3\n",
      "4\n",
      "[[4 5]\n",
      " [6 7]]\n",
      "[4 5]\n",
      "4\n",
      "5\n",
      "[6 7]\n",
      "6\n",
      "7\n",
      "[[[ 7  8]\n",
      "  [ 9 10]]\n",
      "\n",
      " [[10 11]\n",
      "  [12 13]]]\n",
      "[[ 7  8]\n",
      " [ 9 10]]\n",
      "[7 8]\n",
      "7\n",
      "8\n",
      "[ 9 10]\n",
      "9\n",
      "10\n",
      "[[10 11]\n",
      " [12 13]]\n",
      "[10 11]\n",
      "10\n",
      "11\n",
      "[12 13]\n",
      "12\n",
      "13\n",
      "[[[14 15]\n",
      "  [16 17]]\n",
      "\n",
      " [[18 19]\n",
      "  [20 21]]]\n",
      "[[14 15]\n",
      " [16 17]]\n",
      "[14 15]\n",
      "14\n",
      "15\n",
      "[16 17]\n",
      "16\n",
      "17\n",
      "[[18 19]\n",
      " [20 21]]\n",
      "[18 19]\n",
      "18\n",
      "19\n",
      "[20 21]\n",
      "20\n",
      "21\n"
     ]
    }
   ],
   "source": [
    "for a in myarr4:\n",
    "    print(a)\n",
    "    for b in a:\n",
    "        print(b)\n",
    "        for c in b:\n",
    "            print(c)\n",
    "            for d in c:\n",
    "                print(d)"
   ]
  },
  {
   "cell_type": "code",
   "execution_count": 49,
   "id": "55565e66-c970-4ad6-a1af-68ba1cc0c572",
   "metadata": {},
   "outputs": [
    {
     "name": "stdout",
     "output_type": "stream",
     "text": [
      "1\n",
      "2\n",
      "3\n",
      "4\n",
      "4\n",
      "5\n",
      "6\n",
      "7\n",
      "7\n",
      "8\n",
      "9\n",
      "10\n",
      "10\n",
      "11\n",
      "12\n",
      "13\n",
      "14\n",
      "15\n",
      "16\n",
      "17\n",
      "18\n",
      "19\n",
      "20\n",
      "21\n"
     ]
    }
   ],
   "source": [
    "# flatten the 4d array\n",
    "for i in np.nditer(myarr4):\n",
    "    print(i)"
   ]
  },
  {
   "cell_type": "code",
   "execution_count": null,
   "id": "895c16a6-f4ae-46f2-b2f8-0fecea3db72b",
   "metadata": {},
   "outputs": [],
   "source": []
  }
 ],
 "metadata": {
  "kernelspec": {
   "display_name": "Python 3 (ipykernel)",
   "language": "python",
   "name": "python3"
  },
  "language_info": {
   "codemirror_mode": {
    "name": "ipython",
    "version": 3
   },
   "file_extension": ".py",
   "mimetype": "text/x-python",
   "name": "python",
   "nbconvert_exporter": "python",
   "pygments_lexer": "ipython3",
   "version": "3.11.5"
  }
 },
 "nbformat": 4,
 "nbformat_minor": 5
}
