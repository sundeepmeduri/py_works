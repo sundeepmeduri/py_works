{
 "cells": [
  {
   "cell_type": "code",
   "execution_count": 52,
   "id": "7909c110-3e76-42a3-92ec-9f3d6e722add",
   "metadata": {
    "tags": []
   },
   "outputs": [],
   "source": [
    "from gm import PPoint\n",
    "\n",
    "class Point:\n",
    "    \n",
    "    def __init__(self, x, y):\n",
    "        self.x = x\n",
    "        self.y = y\n",
    "    \n",
    "    def __str__(self):\n",
    "        return  'points: ' + str(self.x) +', '+ str(self.y)"
   ]
  },
  {
   "cell_type": "code",
   "execution_count": 53,
   "id": "f5996270-7a0f-4e6b-807b-972c1dfc6b11",
   "metadata": {
    "tags": []
   },
   "outputs": [],
   "source": [
    "p1 = Point(10, 20)"
   ]
  },
  {
   "cell_type": "code",
   "execution_count": 39,
   "id": "77e4935e-9059-46b0-ba4b-49047983ed25",
   "metadata": {
    "tags": []
   },
   "outputs": [],
   "source": [
    "p2 = Point(11,12)\n",
    "p3 = Point(20,30)"
   ]
  },
  {
   "cell_type": "code",
   "execution_count": 40,
   "id": "a8608045-4d48-47a1-8405-1ecafaa35dc8",
   "metadata": {
    "tags": []
   },
   "outputs": [],
   "source": [
    "n1 = 2"
   ]
  },
  {
   "cell_type": "code",
   "execution_count": 41,
   "id": "e932ad40-526e-4d94-92ac-a20821a7c56f",
   "metadata": {
    "tags": []
   },
   "outputs": [
    {
     "data": {
      "text/plain": [
       "__main__.Point"
      ]
     },
     "execution_count": 41,
     "metadata": {},
     "output_type": "execute_result"
    }
   ],
   "source": [
    "type(p1)"
   ]
  },
  {
   "cell_type": "code",
   "execution_count": 42,
   "id": "507a6614-841b-4150-9a42-448598e0922c",
   "metadata": {
    "tags": []
   },
   "outputs": [
    {
     "data": {
      "text/plain": [
       "int"
      ]
     },
     "execution_count": 42,
     "metadata": {},
     "output_type": "execute_result"
    }
   ],
   "source": [
    "type(n1)"
   ]
  },
  {
   "cell_type": "code",
   "execution_count": 43,
   "id": "28f76cae-5f46-472d-9682-c76f8525eeaa",
   "metadata": {
    "tags": []
   },
   "outputs": [],
   "source": [
    "pp1 = PPoint(10, 20)"
   ]
  },
  {
   "cell_type": "code",
   "execution_count": 44,
   "id": "56d59d6a-4372-4810-bff8-93481c0f5e31",
   "metadata": {
    "tags": []
   },
   "outputs": [
    {
     "data": {
      "text/plain": [
       "gm.PPoint"
      ]
     },
     "execution_count": 44,
     "metadata": {},
     "output_type": "execute_result"
    }
   ],
   "source": [
    "type(pp1)"
   ]
  },
  {
   "cell_type": "code",
   "execution_count": 54,
   "id": "93fd3aa6-f390-4371-aaed-47c911adb1e2",
   "metadata": {
    "tags": []
   },
   "outputs": [
    {
     "name": "stdout",
     "output_type": "stream",
     "text": [
      "points: 10, 20\n"
     ]
    }
   ],
   "source": [
    "print(p1)"
   ]
  },
  {
   "cell_type": "code",
   "execution_count": null,
   "id": "e6bff73b-59b2-43b9-b08b-edaae358b74c",
   "metadata": {},
   "outputs": [],
   "source": []
  }
 ],
 "metadata": {
  "kernelspec": {
   "display_name": "Python 3 (ipykernel)",
   "language": "python",
   "name": "python3"
  },
  "language_info": {
   "codemirror_mode": {
    "name": "ipython",
    "version": 3
   },
   "file_extension": ".py",
   "mimetype": "text/x-python",
   "name": "python",
   "nbconvert_exporter": "python",
   "pygments_lexer": "ipython3",
   "version": "3.11.5"
  }
 },
 "nbformat": 4,
 "nbformat_minor": 5
}
